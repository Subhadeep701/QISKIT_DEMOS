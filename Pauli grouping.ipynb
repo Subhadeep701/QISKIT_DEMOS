{
 "cells": [
  {
   "metadata": {},
   "cell_type": "markdown",
   "source": "First we show the pauli grouping advantage in measurement for a banded structure hamiltonian. Then for the rest we describe how a banded hamiltonian can be approaximated with local paulis only. With this consideration, we apply the pauli grouping on that filtered pauli. For the next 3 cell we show what is the grouping advantage for the paulis.",
   "id": "e92f0e589a0296c5"
  },
  {
   "cell_type": "code",
   "id": "initial_id",
   "metadata": {
    "collapsed": true,
    "ExecuteTime": {
     "end_time": "2025-07-14T19:27:54.312090Z",
     "start_time": "2025-07-14T19:27:54.299441Z"
    }
   },
   "source": [
    "from qiskit import QuantumCircuit\n",
    "from qiskit.circuit.library import TwoLocal\n",
    "from qiskit.quantum_info import Statevector,Operator,SparsePauliOp\n",
    "from qiskit.primitives import StatevectorSampler,StatevectorEstimator\n",
    "from scipy.optimize import minimize\n",
    "import numpy as np\n",
    "import matplotlib.pyplot as plt\n",
    "\n",
    "from qiskit_addon_cutting.utils.observable_grouping import ObservableCollection\n",
    "\n",
    "\n",
    "qubits=3\n",
    "def generate_covariance_band_decay_matrix(n, bandwidth, decay_rate):\n",
    "    \"\"\"\n",
    "    Generate a real symmetric positive semidefinite (PSD) covariance matrix\n",
    "    with decaying values away from the diagonal.\n",
    "\n",
    "    Parameters:\n",
    "        n (int): Size of the matrix (n x n).\n",
    "        bandwidth (int): Controls effective band width (must be > 0).\n",
    "        decay_rate (float): Exponential decay factor.\n",
    "\n",
    "    Returns:\n",
    "        np.ndarray: Covariance matrix (real symmetric PSD).\n",
    "    \"\"\"\n",
    "    if bandwidth <= 0:\n",
    "        raise ValueError(\"Bandwidth must be positive.\")\n",
    "\n",
    "    A = np.zeros((n, n))\n",
    "\n",
    "    for i in range(n):\n",
    "        for j in range(n):  # no need to restrict to upper triangle\n",
    "            distance = abs(i - j)\n",
    "            decay = np.exp(-decay_rate * (distance / bandwidth) ** 2)\n",
    "            A[i, j] = decay * np.random.rand()\n",
    "\n",
    "    # Make it PSD\n",
    "    C = A @ A.T\n",
    "\n",
    "    # Optional: ensure numerical PSD\n",
    "    eigvals, eigvecs = np.linalg.eigh(C)\n",
    "    eigvals_clipped = np.clip(eigvals, 0, None)\n",
    "    C = eigvecs @ np.diag(eigvals_clipped) @ eigvecs.T\n",
    "\n",
    "    return C\n",
    "\n",
    "\n",
    "\n",
    "hermitian_matrix =generate_covariance_band_decay_matrix(n=2**qubits, bandwidth=80, decay_rate=120)\n",
    "print(f\"Hermitian Matrix:{hermitian_matrix}\")\n",
    "z=Operator(-hermitian_matrix)\n",
    "pauli_op=SparsePauliOp.from_operator(z)\n",
    "print(pauli_op)"
   ],
   "outputs": [
    {
     "name": "stdout",
     "output_type": "stream",
     "text": [
      "Hermitian Matrix:[[2.11145702 1.24277336 2.09286387 1.93610205 1.13719527 1.02869184\n",
      "  1.60871158 0.43476179]\n",
      " [1.24277336 1.39330852 1.17580035 1.36774636 1.05570772 0.96487167\n",
      "  0.89094174 0.44942144]\n",
      " [2.09286387 1.17580035 2.33492501 2.16910222 1.47395545 1.28961434\n",
      "  1.98874686 0.67417022]\n",
      " [1.93610205 1.36774636 2.16910222 2.65692478 2.03991794 1.6753788\n",
      "  2.13586345 0.8142813 ]\n",
      " [1.13719527 1.05570772 1.47395545 2.03991794 2.77361123 2.08355406\n",
      "  1.97042602 1.08839977]\n",
      " [1.02869184 0.96487167 1.28961434 1.6753788  2.08355406 1.7669139\n",
      "  1.52987146 0.85736899]\n",
      " [1.60871158 0.89094174 1.98874686 2.13586345 1.97042602 1.52987146\n",
      "  2.1859536  0.84476173]\n",
      " [0.43476179 0.44942144 0.67417022 0.8142813  1.08839977 0.85736899\n",
      "  0.84476173 0.82080961]]\n",
      "SparsePauliOp(['III', 'IIX', 'IIZ', 'IXI', 'IXX', 'IXZ', 'IYY', 'IZI', 'IZX', 'IZZ', 'XII', 'XIX', 'XIZ', 'XXI', 'XXX', 'XXZ', 'XYY', 'XZI', 'XZX', 'XZZ', 'YIY', 'YXY', 'YYI', 'YYX', 'YYZ', 'YZY', 'ZII', 'ZIX', 'ZIZ', 'ZXI', 'ZXX', 'ZXZ', 'ZYY', 'ZZI', 'ZZX', 'ZZZ'],\n",
      "              coeffs=[-2.00548796+0.j, -1.58504784+0.j, -0.34599875+0.j, -1.57210131+0.j,\n",
      " -1.43254341+0.j, -0.45954364+0.j,  0.0797075 -0.j, -0.00583471+0.j,\n",
      " -0.07811587+0.j, -0.0852127 +0.j, -1.22627378+0.j, -1.22360831+0.j,\n",
      " -0.33669729+0.j, -1.30186682+0.j, -1.16380895+0.j, -0.2394667 +0.j,\n",
      "  0.07353092-0.j,  0.17524031+0.j,  0.18140853+0.j,  0.25053549+0.j,\n",
      " -0.37217728+0.j, -0.30162089+0.j, -0.27280031+0.j, -0.50095719+0.j,\n",
      "  0.34017837-0.j,  0.35866934-0.j, -0.11866587+0.j, -0.12088995+0.j,\n",
      "  0.24696157+0.j, -0.1582038 +0.j, -0.12340779+0.j,  0.09698488+0.j,\n",
      "  0.30044335-0.j,  0.37760577+0.j,  0.5412803 +0.j, -0.17482437+0.j])\n"
     ]
    }
   ],
   "execution_count": 92
  },
  {
   "metadata": {
    "ExecuteTime": {
     "end_time": "2025-07-14T19:27:59.448691Z",
     "start_time": "2025-07-14T19:27:59.426834Z"
    }
   },
   "cell_type": "code",
   "source": [
    "# Step 3: Group Pauli terms using ObservableCollection\n",
    "collection = ObservableCollection(pauli_op.paulis)\n",
    "\n",
    "print(f\"\\nTotal QWC Groups formed: {len(collection.groups)}\")\n",
    "\n",
    "# Step 4: Show group contents\n",
    "for idx, group in enumerate(collection.groups):\n",
    "    print(f\"\\nGroup {idx + 1}:\")\n",
    "    print(\"  Measurement basis (general observable):\", group.general_observable)\n",
    "    print(\"  Commuting Pauli terms:\")\n",
    "    for term in group.commuting_observables:\n",
    "        print(\"   \", term)"
   ],
   "id": "67d48d05596635df",
   "outputs": [
    {
     "name": "stdout",
     "output_type": "stream",
     "text": [
      "\n",
      "Total QWC Groups formed: 14\n",
      "\n",
      "Group 1:\n",
      "  Measurement basis (general observable): XYY\n",
      "  Commuting Pauli terms:\n",
      "    XYY\n",
      "    IYY\n",
      "    XII\n",
      "    III\n",
      "\n",
      "Group 2:\n",
      "  Measurement basis (general observable): YXY\n",
      "  Commuting Pauli terms:\n",
      "    YXY\n",
      "    YIY\n",
      "    IXI\n",
      "\n",
      "Group 3:\n",
      "  Measurement basis (general observable): YYX\n",
      "  Commuting Pauli terms:\n",
      "    YYX\n",
      "    YYI\n",
      "    IIX\n",
      "\n",
      "Group 4:\n",
      "  Measurement basis (general observable): YYZ\n",
      "  Commuting Pauli terms:\n",
      "    YYZ\n",
      "    IIZ\n",
      "\n",
      "Group 5:\n",
      "  Measurement basis (general observable): YZY\n",
      "  Commuting Pauli terms:\n",
      "    YZY\n",
      "    IZI\n",
      "\n",
      "Group 6:\n",
      "  Measurement basis (general observable): ZYY\n",
      "  Commuting Pauli terms:\n",
      "    ZYY\n",
      "    ZII\n",
      "\n",
      "Group 7:\n",
      "  Measurement basis (general observable): XXX\n",
      "  Commuting Pauli terms:\n",
      "    XXX\n",
      "    IXX\n",
      "    XIX\n",
      "    XXI\n",
      "\n",
      "Group 8:\n",
      "  Measurement basis (general observable): XXZ\n",
      "  Commuting Pauli terms:\n",
      "    XXZ\n",
      "    IXZ\n",
      "    XIZ\n",
      "\n",
      "Group 9:\n",
      "  Measurement basis (general observable): XZX\n",
      "  Commuting Pauli terms:\n",
      "    XZX\n",
      "    IZX\n",
      "    XZI\n",
      "\n",
      "Group 10:\n",
      "  Measurement basis (general observable): XZZ\n",
      "  Commuting Pauli terms:\n",
      "    XZZ\n",
      "    IZZ\n",
      "\n",
      "Group 11:\n",
      "  Measurement basis (general observable): ZXX\n",
      "  Commuting Pauli terms:\n",
      "    ZXX\n",
      "    ZIX\n",
      "    ZXI\n",
      "\n",
      "Group 12:\n",
      "  Measurement basis (general observable): ZXZ\n",
      "  Commuting Pauli terms:\n",
      "    ZXZ\n",
      "    ZIZ\n",
      "\n",
      "Group 13:\n",
      "  Measurement basis (general observable): ZZX\n",
      "  Commuting Pauli terms:\n",
      "    ZZX\n",
      "    ZZI\n",
      "\n",
      "Group 14:\n",
      "  Measurement basis (general observable): ZZZ\n",
      "  Commuting Pauli terms:\n",
      "    ZZZ\n"
     ]
    }
   ],
   "execution_count": 93
  },
  {
   "metadata": {},
   "cell_type": "markdown",
   "source": "Advantage of Pauli grouping",
   "id": "f84aa609e3881652"
  },
  {
   "metadata": {
    "ExecuteTime": {
     "end_time": "2025-07-14T19:28:02.252409Z",
     "start_time": "2025-07-14T19:28:02.244876Z"
    }
   },
   "cell_type": "code",
   "source": [
    "# Step 5: Print grouping advantage metric\n",
    "num_terms = len(pauli_op)\n",
    "num_groups = len(collection.groups)\n",
    "efficiency = num_terms / num_groups\n",
    "reduction_ratio = (1 - (num_groups / num_terms)) * 100\n",
    "\n",
    "print(\"\\n\" + \"=\"*50)\n",
    "print(\"📊 Measurement Optimization Summary\")\n",
    "print(f\"🔢 Total Pauli terms: {num_terms}\")\n",
    "print(f\"📦 Total QWC groups (unique basis rotations needed): {num_groups}\")\n",
    "print(f\"⚙️ Grouping Efficiency (terms per measurement basis): {efficiency:.2f}\")\n",
    "print(f\"📉 Reduction in circuit count: {reduction_ratio:.2f}%\")\n",
    "print(\"=\"*50)\n"
   ],
   "id": "47257ce7f2b4074a",
   "outputs": [
    {
     "name": "stdout",
     "output_type": "stream",
     "text": [
      "\n",
      "==================================================\n",
      "📊 Measurement Optimization Summary\n",
      "🔢 Total Pauli terms: 36\n",
      "📦 Total QWC groups (unique basis rotations needed): 14\n",
      "⚙️ Grouping Efficiency (terms per measurement basis): 2.57\n",
      "📉 Reduction in circuit count: 61.11%\n",
      "==================================================\n"
     ]
    }
   ],
   "execution_count": 94
  },
  {
   "metadata": {},
   "cell_type": "markdown",
   "source": "Now we generate a banded hermitian matrix. Then we do its pauli decomposition. Once the decomposition is done, we try to filter out the paulis which has long correlation which is not good for NISQ for this banded structure. Once this is done we compare the number of paulis and performance in VQE.",
   "id": "425761cb465bca7e"
  },
  {
   "metadata": {
    "ExecuteTime": {
     "end_time": "2025-07-14T19:38:40.597224Z",
     "start_time": "2025-07-14T19:38:40.567654Z"
    }
   },
   "cell_type": "code",
   "source": [
    "import numpy as np\n",
    "from qiskit.quantum_info import Operator, SparsePauliOp\n",
    "from scipy.linalg import eigh\n",
    "\n",
    "# Parameters\n",
    "qubits = 5\n",
    "dim = 2**qubits\n",
    "\n",
    "def generate_covariance_band_decay_matrix(n, bandwidth, decay_rate):\n",
    "    A = np.zeros((n, n))\n",
    "    for i in range(n):\n",
    "        for j in range(n):\n",
    "            distance = abs(i - j)\n",
    "            decay = np.exp(-decay_rate * (distance / bandwidth) ** 2)\n",
    "            A[i, j] = decay * np.random.rand()\n",
    "\n",
    "    C = A @ A.T  # Create covariance matrix\n",
    "    eigvals, eigvecs = np.linalg.eigh(C)  # Sorted ascending by default\n",
    "\n",
    "    # Define small value inside the function\n",
    "    small_value = 1e-6\n",
    "\n",
    "    # Sort indices of eigenvalues in descending order\n",
    "    sorted_indices = np.argsort(eigvals)[::-1]\n",
    "\n",
    "    # Copy eigenvalues and modify\n",
    "    eigvals_modified = eigvals.copy()\n",
    "    eigvals_modified[sorted_indices[5:15]] = small_value  # Set 6th–15th largest to small value\n",
    "\n",
    "    # Reconstruct matrix\n",
    "    return eigvecs @ np.diag(eigvals_modified) @ eigvecs.T\n",
    "\n",
    "\n",
    "# Step 1: Generate the matrix\n",
    "H_matrix = generate_covariance_band_decay_matrix(dim, bandwidth=5, decay_rate=20)\n",
    "\n",
    "# Step 2: Convert to Pauli operator\n",
    "op = Operator(H_matrix)\n",
    "pauli_op = SparsePauliOp.from_operator(op)\n",
    "\n",
    "# Step 3: Filter local Pauli terms\n",
    "def is_local(pauli_str, max_distance):\n",
    "    indices = [i for i, p in enumerate(pauli_str) if p != 'I']\n",
    "    if len(indices) <= 1:\n",
    "        return True\n",
    "    return max(indices) - min(indices) <= max_distance\n",
    "\n",
    "filtered_labels = []\n",
    "filtered_coeffs = []\n",
    "\n",
    "for coeff, label in zip(pauli_op.coeffs, pauli_op.paulis.to_labels()):\n",
    "    if is_local(label, max_distance=3):  # Nearest-neighbor locality\n",
    "        filtered_labels.append(label)\n",
    "        filtered_coeffs.append(coeff)\n",
    "\n",
    "# Step 4: Rebuild operator\n",
    "filtered_op = SparsePauliOp.from_list(list(zip(filtered_labels, filtered_coeffs)))\n",
    "filtered_matrix = filtered_op.to_operator().data\n",
    "\n",
    "# Step 5: Compute eigenvalues\n",
    "eigvals_full = np.linalg.eigvalsh(H_matrix)\n",
    "eigvals_local = np.linalg.eigvalsh(filtered_matrix)\n",
    "\n",
    "print(\"🔹 Full Hamiltonian Eigenvalues:\")\n",
    "print(np.round(eigvals_full, 4))\n",
    "\n",
    "print(\"\\n🔹 Local (banded) Pauli Hamiltonian Eigenvalues:\")\n",
    "print(np.round(eigvals_local, 4))\n"
   ],
   "id": "74b78e2ffe96e573",
   "outputs": [
    {
     "name": "stdout",
     "output_type": "stream",
     "text": [
      "🔹 Full Hamiltonian Eigenvalues:\n",
      "[0.0000e+00 0.0000e+00 0.0000e+00 0.0000e+00 0.0000e+00 0.0000e+00\n",
      " 0.0000e+00 0.0000e+00 0.0000e+00 0.0000e+00 0.0000e+00 1.0000e-04\n",
      " 3.0000e-03 1.3400e-02 1.6800e-02 2.2200e-02 3.0400e-02 3.3900e-02\n",
      " 4.1000e-02 6.3500e-02 7.7700e-02 8.7500e-02 9.7100e-02 1.0150e-01\n",
      " 1.9220e-01 2.1980e-01 2.3060e-01 1.0894e+00 1.0910e+00 1.2110e+00\n",
      " 1.3178e+00 1.3857e+00]\n",
      "\n",
      "🔹 Local (banded) Pauli Hamiltonian Eigenvalues:\n",
      "[-0.2787 -0.2679 -0.1971 -0.0837 -0.0245 -0.0169 -0.0106  0.0119  0.0157\n",
      "  0.0239  0.0391  0.0531  0.0628  0.0641  0.0743  0.1014  0.1033  0.117\n",
      "  0.1552  0.1847  0.2159  0.3095  0.3169  0.326   0.3582  0.3838  0.4665\n",
      "  0.7595  0.8772  0.9002  1.0999  1.1848]\n"
     ]
    }
   ],
   "execution_count": 119
  },
  {
   "metadata": {},
   "cell_type": "markdown",
   "source": "Calculating the pauli decomposition advantage of banded structure through local correlation",
   "id": "b8277a6fe30127a8"
  },
  {
   "metadata": {
    "ExecuteTime": {
     "end_time": "2025-07-14T19:38:44.842663Z",
     "start_time": "2025-07-14T19:38:44.833151Z"
    }
   },
   "cell_type": "code",
   "source": [
    "total_terms = len(pauli_op)\n",
    "local_terms = len(filtered_op)\n",
    "avoided_terms = total_terms - local_terms\n",
    "percent_reduced = 100 * avoided_terms / total_terms\n",
    "\n",
    "print(f\"\\n🔸 Total Pauli terms in full H: {total_terms}\")\n",
    "print(f\"🔸 Local Pauli terms kept     : {local_terms}\")\n",
    "print(f\"🔸 Pauli terms avoided        : {avoided_terms} ({percent_reduced:.2f}%)\")"
   ],
   "id": "b693e5606d96ee35",
   "outputs": [
    {
     "name": "stdout",
     "output_type": "stream",
     "text": [
      "\n",
      "🔸 Total Pauli terms in full H: 498\n",
      "🔸 Local Pauli terms kept     : 229\n",
      "🔸 Pauli terms avoided        : 269 (54.02%)\n"
     ]
    }
   ],
   "execution_count": 120
  },
  {
   "metadata": {},
   "cell_type": "markdown",
   "source": "Printing (k+1)th row for checking the decaying effect",
   "id": "30f7cb61e5c52b2a"
  },
  {
   "metadata": {
    "ExecuteTime": {
     "end_time": "2025-07-14T19:38:48.680252Z",
     "start_time": "2025-07-14T19:38:48.673936Z"
    }
   },
   "cell_type": "code",
   "source": "print(H_matrix[2,:])",
   "id": "252b570fd1647be5",
   "outputs": [
    {
     "name": "stdout",
     "output_type": "stream",
     "text": [
      "[-4.08059328e-03 -2.96612566e-02  3.97314361e-02  2.57913251e-02\n",
      " -1.19339376e-02 -8.54517309e-03 -4.29668458e-03  1.82829070e-03\n",
      "  2.01852843e-03  4.98722190e-05 -2.27813206e-03  2.07528055e-03\n",
      " -2.48288631e-04 -1.32366359e-04 -1.13325309e-04 -6.00193839e-05\n",
      " -3.67015933e-06  2.80440502e-05  7.04390065e-06  5.67229297e-06\n",
      "  1.98425671e-06  3.01592289e-07 -1.08476275e-07  3.34734621e-07\n",
      " -5.34201196e-07 -5.94379028e-07  4.37060527e-07  3.66607755e-07\n",
      "  2.10323546e-07 -1.79253738e-07 -4.20527436e-07  3.97250621e-07]\n"
     ]
    }
   ],
   "execution_count": 121
  },
  {
   "metadata": {},
   "cell_type": "markdown",
   "source": "Just checking the IPR values for the eigenvectors of the hamiltonian",
   "id": "515aa6f14123d920"
  },
  {
   "metadata": {
    "ExecuteTime": {
     "end_time": "2025-07-14T19:38:57.873066Z",
     "start_time": "2025-07-14T19:38:57.773126Z"
    }
   },
   "cell_type": "code",
   "source": [
    "def compute_ipr(eigenvectors):\n",
    "    \"\"\"\n",
    "    Compute Inverse Participation Ratio (IPR) for each eigenvector.\n",
    "    Parameters:\n",
    "        eigenvectors (np.ndarray): Matrix with eigenvectors as columns.\n",
    "    Returns:\n",
    "        list: IPR values.\n",
    "    \"\"\"\n",
    "    ipr = []\n",
    "    for v in eigenvectors.T:  # eigenvectors are columns\n",
    "        norm_v = v / np.linalg.norm(v)\n",
    "        ipr_val = np.sum(np.abs(norm_v)**4)\n",
    "        ipr.append(ipr_val)\n",
    "    return np.array(ipr)\n",
    "\n",
    "# Example: Random symmetric matrix (can replace with your banded matrix)\n",
    "\n",
    "\n",
    "# Eigen decomposition\n",
    "eigvals, eigvecs = np.linalg.eigh(filtered_matrix)\n",
    "\n",
    "# Compute IPR\n",
    "ipr_values = compute_ipr(eigvecs)\n",
    "\n",
    "# Plot IPR\n",
    "plt.figure(figsize=(8, 4))\n",
    "plt.plot(eigvals, ipr_values, 'o-')\n",
    "plt.xlabel('Eigenvalue')\n",
    "plt.ylabel('IPR (Localization)')\n",
    "plt.title('Localization of Eigenvectors via IPR')\n",
    "plt.grid(True)\n",
    "plt.show()"
   ],
   "id": "2fcd5a220de31a1c",
   "outputs": [
    {
     "data": {
      "text/plain": [
       "<Figure size 800x400 with 1 Axes>"
      ],
      "image/png": "[encoded data removed]"
     },
     "metadata": {},
     "output_type": "display_data"
    }
   ],
   "execution_count": 122
  },
  {
   "metadata": {},
   "cell_type": "markdown",
   "source": "Ansatz selection is from realamplitude because the matrix is real and the eigenvectors will be real, this is a simple ansatz in this regard.",
   "id": "da49d441f4716fcb"
  },
  {
   "metadata": {
    "ExecuteTime": {
     "end_time": "2025-07-14T19:39:12.355848Z",
     "start_time": "2025-07-14T19:39:12.193579Z"
    }
   },
   "cell_type": "code",
   "source": [
    "from qiskit.circuit.library import real_amplitudes\n",
    "qc=QuantumCircuit(qubits)\n",
    "ansatz=real_amplitudes(num_qubits=qubits,reps=1)\n",
    "qc=qc.compose(ansatz)\n",
    "qc.draw(\"mpl\")"
   ],
   "id": "9cba270de5b80ec7",
   "outputs": [
    {
     "data": {
      "text/plain": [
       "<Figure size 621.941x451.5 with 1 Axes>"
      ],
      "image/png": "[encoded data removed]"
     },
     "execution_count": 123,
     "metadata": {},
     "output_type": "execute_result"
    }
   ],
   "execution_count": 123
  },
  {
   "metadata": {},
   "cell_type": "markdown",
   "source": "Using SparsePauli VQE without enforcing band structure, what excited-state energy is obtained from the full Hamiltonian?",
   "id": "4e0c53f3366439db"
  },
  {
   "metadata": {
    "ExecuteTime": {
     "end_time": "2025-07-14T19:40:12.803694Z",
     "start_time": "2025-07-14T19:40:01.467808Z"
    }
   },
   "cell_type": "code",
   "source": [
    "from qiskit.primitives import StatevectorEstimator\n",
    "from scipy.optimize import minimize\n",
    "def objfun(params,circuit,hamiltonian):\n",
    "    estimator=StatevectorEstimator()\n",
    "    job=estimator.run([(circuit,hamiltonian,[params])])\n",
    "    return job.result()[0].data.evs\n",
    "params=np.random.randn(qc.num_parameters)\n",
    "z=minimize(objfun,params,args=(qc,-pauli_op),method=\"BFGS\")\n",
    "print(z)"
   ],
   "id": "6871a583790398e6",
   "outputs": [
    {
     "name": "stdout",
     "output_type": "stream",
     "text": [
      "  message: Optimization terminated successfully.\n",
      "  success: True\n",
      "   status: 0\n",
      "      fun: -1.3470523621276191\n",
      "        x: [-2.641e+00  1.962e+00 -1.585e+00 -3.081e+00 -1.571e+00\n",
      "            -9.367e-01  1.508e+00  1.590e+00  1.538e+00 -1.571e+00]\n",
      "      nit: 39\n",
      "      jac: [ 1.833e-06 -1.356e-06 -1.848e-06  5.662e-07 -1.013e-06\n",
      "             1.475e-06  4.470e-07 -8.941e-07  5.364e-07  1.043e-06]\n",
      " hess_inv: [[ 1.380e+00 -1.336e-01 ...  3.781e-03  3.256e-01]\n",
      "            [-1.336e-01  1.598e+00 ... -1.095e-01 -1.355e-02]\n",
      "            ...\n",
      "            [ 3.781e-03 -1.095e-01 ...  4.313e+00  4.205e-01]\n",
      "            [ 3.256e-01 -1.355e-02 ...  4.205e-01  4.469e+02]]\n",
      "     nfev: 462\n",
      "     njev: 42\n"
     ]
    }
   ],
   "execution_count": 125
  },
  {
   "metadata": {},
   "cell_type": "markdown",
   "source": "For the banded, locally correlated Hamiltonian, we construct a filtered matrix that retains only local interaction terms. With this structured form, we aim to compute the excited-state eigenvalue, and investigate how well the variational algorithm captures delocalized excitations under this constraint.",
   "id": "40c7972d047c522e"
  },
  {
   "metadata": {
    "ExecuteTime": {
     "end_time": "2025-07-14T19:40:41.229618Z",
     "start_time": "2025-07-14T19:40:37.133202Z"
    }
   },
   "cell_type": "code",
   "source": [
    "z1=minimize(objfun,params,args=(qc,-filtered_op),method=\"BFGS\")\n",
    "print(z1)"
   ],
   "id": "c1d3e205c980f43b",
   "outputs": [
    {
     "name": "stdout",
     "output_type": "stream",
     "text": [
      "  message: Optimization terminated successfully.\n",
      "  success: True\n",
      "   status: 0\n",
      "      fun: -1.130570250332956\n",
      "        x: [ 2.457e-01 -7.298e-01 -8.440e-02 -3.315e-03 -2.459e+00\n",
      "            -4.773e+00  2.272e+00  9.546e-01  3.110e+00  2.459e+00]\n",
      "      nit: 26\n",
      "      jac: [ 3.219e-06 -3.874e-07 -6.363e-06 -2.190e-06 -3.085e-06\n",
      "             4.336e-06  1.341e-06  2.667e-06 -2.384e-07  3.889e-06]\n",
      " hess_inv: [[ 2.067e+00 -5.768e-01 ... -1.618e-02  3.345e-01]\n",
      "            [-5.768e-01  2.206e+00 ... -1.930e-01 -3.853e-01]\n",
      "            ...\n",
      "            [-1.618e-02 -1.930e-01 ...  3.147e+00  1.338e+00]\n",
      "            [ 3.345e-01 -3.853e-01 ...  1.338e+00  2.542e+00]]\n",
      "     nfev: 319\n",
      "     njev: 29\n"
     ]
    }
   ],
   "execution_count": 126
  },
  {
   "metadata": {},
   "cell_type": "markdown",
   "source": [
    "Comparison of Measurement Cost via Pauli Grouping:\n",
    "We analyze the reduction in the number of measurements achieved through Pauli grouping. This is done by comparing the original (exact) set of Pauli terms with a filtered subset that retains only local interactions. The filtered Hamiltonian exhibits more structured and localized correlations, enabling a more compressed representation through commutation-based grouping."
   ],
   "id": "533bfd15b65bf9b3"
  },
  {
   "metadata": {
    "ExecuteTime": {
     "end_time": "2025-07-14T20:26:39.009351Z",
     "start_time": "2025-07-14T20:26:38.653461Z"
    }
   },
   "cell_type": "code",
   "source": [
    "\n",
    "\n",
    "# Full operator (no filtering)\n",
    "collection_full = ObservableCollection(pauli_op.paulis)\n",
    "\n",
    "\n",
    "collection_filtered = ObservableCollection(filtered_op.paulis)\n",
    "\n",
    "# Stats\n",
    "n_full_terms = len(pauli_op)\n",
    "n_filtered_terms = len(filtered_op)\n",
    "n_full_groups = len(collection_full.groups)\n",
    "n_filtered_groups = len(collection_filtered.groups)\n",
    "\n",
    "# Grouping Advantage Ratio (GAR)\n",
    "gar_full = n_full_terms / n_full_groups\n",
    "gar_filtered = n_filtered_terms / n_filtered_groups\n",
    "\n",
    "# Print Results\n",
    "print(\"=== Grouping Comparison ===\")\n",
    "print(f\"Total Pauli terms (full):       {n_full_terms}\")\n",
    "print(f\"Commuting groups (full):        {n_full_groups}\")\n",
    "print(f\"Grouping Advantage Ratio (full):   {gar_full:.2f}\\n\")\n",
    "\n",
    "print(f\"Total Pauli terms (filtered):   {n_filtered_terms}\")\n",
    "print(f\"Commuting groups (filtered):    {n_filtered_groups}\")\n",
    "print(f\"Grouping Advantage Ratio (filtered): {gar_filtered:.2f}\")\n"
   ],
   "id": "cf9b9ea7859305eb",
   "outputs": [
    {
     "name": "stdout",
     "output_type": "stream",
     "text": [
      "=== Grouping Comparison ===\n",
      "Total Pauli terms (full):       498\n",
      "Commuting groups (full):        117\n",
      "Grouping Advantage Ratio (full):   4.26\n",
      "\n",
      "Total Pauli terms (filtered):   229\n",
      "Commuting groups (filtered):    41\n",
      "Grouping Advantage Ratio (filtered): 5.59\n"
     ]
    }
   ],
   "execution_count": 136
  },
  {
   "metadata": {},
   "cell_type": "markdown",
   "source": "Our Next target is to explore the localization effect of the eigenvectors in such scenarios and blend this into VQE cost function.",
   "id": "b2a7b68749e9245c"
  },
  {
   "metadata": {},
   "cell_type": "code",
   "outputs": [],
   "execution_count": null,
   "source": "",
   "id": "c8388aff50cfe8e3"
  }
 ],
 "metadata": {
  "kernelspec": {
   "display_name": "Python 3",
   "language": "python",
   "name": "python3"
  },
  "language_info": {
   "codemirror_mode": {
    "name": "ipython",
    "version": 2
   },
   "file_extension": ".py",
   "mimetype": "text/x-python",
   "name": "python",
   "nbconvert_exporter": "python",
   "pygments_lexer": "ipython2",
   "version": "2.7.6"
  }
 },
 "nbformat": 4,
 "nbformat_minor": 5
}
