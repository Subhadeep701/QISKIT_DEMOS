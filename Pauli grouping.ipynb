{
 "cells": [
  {
   "metadata": {},
   "cell_type": "markdown",
   "source": "First we show the pauli grouping advantage in measurement for a banded structure hamiltonian. Then for the rest we describe how a banded hamiltonian can be approaximated with local paulis only. With this consideration, we apply the pauli grouping on that filtered pauli. For the next 3 cell we show what is the grouping advantage for the paulis.",
   "id": "e92f0e589a0296c5"
  },
  {
   "cell_type": "code",
   "id": "initial_id",
   "metadata": {
    "collapsed": true,
    "ExecuteTime": {
     "end_time": "2025-07-16T11:15:16.405027Z",
     "start_time": "2025-07-16T11:15:16.396055Z"
    }
   },
   "source": [
    "from qiskit import QuantumCircuit\n",
    "from qiskit.circuit.library import TwoLocal\n",
    "from qiskit.quantum_info import Statevector,Operator,SparsePauliOp\n",
    "from qiskit.primitives import StatevectorSampler,StatevectorEstimator\n",
    "from scipy.optimize import minimize\n",
    "import numpy as np\n",
    "import matplotlib.pyplot as plt\n",
    "\n",
    "from qiskit_addon_cutting.utils.observable_grouping import ObservableCollection\n",
    "\n",
    "\n",
    "qubits=3\n",
    "def generate_covariance_band_decay_matrix(n, bandwidth, decay_rate):\n",
    "    \"\"\"\n",
    "    Generate a real symmetric positive semidefinite (PSD) covariance matrix\n",
    "    with decaying values away from the diagonal.\n",
    "\n",
    "    Parameters:\n",
    "        n (int): Size of the matrix (n x n).\n",
    "        bandwidth (int): Controls effective band width (must be > 0).\n",
    "        decay_rate (float): Exponential decay factor.\n",
    "\n",
    "    Returns:\n",
    "        np.ndarray: Covariance matrix (real symmetric PSD).\n",
    "    \"\"\"\n",
    "    if bandwidth <= 0:\n",
    "        raise ValueError(\"Bandwidth must be positive.\")\n",
    "\n",
    "    A = np.zeros((n, n))\n",
    "\n",
    "    for i in range(n):\n",
    "        for j in range(n):  # no need to restrict to upper triangle\n",
    "            distance = abs(i - j)\n",
    "            decay = np.exp(-decay_rate * (distance / bandwidth) ** 2)\n",
    "            A[i, j] = decay * np.random.rand()\n",
    "\n",
    "    # Make it PSD\n",
    "    C = A @ A.T\n",
    "\n",
    "    # Optional: ensure numerical PSD\n",
    "    eigvals, eigvecs = np.linalg.eigh(C)\n",
    "    eigvals_clipped = np.clip(eigvals, 0, None)\n",
    "    C = eigvecs @ np.diag(eigvals_clipped) @ eigvecs.T\n",
    "\n",
    "    return C\n",
    "\n",
    "\n",
    "\n",
    "hermitian_matrix =generate_covariance_band_decay_matrix(n=2**qubits, bandwidth=80, decay_rate=120)\n",
    "print(f\"Hermitian Matrix:{hermitian_matrix}\")\n",
    "z=Operator(-hermitian_matrix)\n",
    "pauli_op=SparsePauliOp.from_operator(z)\n",
    "print(pauli_op)"
   ],
   "outputs": [
    {
     "name": "stdout",
     "output_type": "stream",
     "text": [
      "Hermitian Matrix:[[1.53532371 1.64625999 0.81733747 1.31928348 1.01570686 1.1556632\n",
      "  1.55883377 1.27523552]\n",
      " [1.64625999 2.63880658 0.94497538 1.64566527 1.38369719 1.7200818\n",
      "  2.01785698 1.75272648]\n",
      " [0.81733747 0.94497538 1.10862281 0.65165586 0.76184349 1.26586472\n",
      "  1.15995807 0.89528951]\n",
      " [1.31928348 1.64566527 0.65165586 2.0338215  1.63255519 1.42478196\n",
      "  1.64103913 1.36748356]\n",
      " [1.01570686 1.38369719 0.76184349 1.63255519 1.70934363 1.6883274\n",
      "  1.24159875 1.45240685]\n",
      " [1.1556632  1.7200818  1.26586472 1.42478196 1.6883274  2.42887122\n",
      "  1.87170663 1.78823223]\n",
      " [1.55883377 2.01785698 1.15995807 1.64103913 1.24159875 1.87170663\n",
      "  2.46141762 1.58321501]\n",
      " [1.27523552 1.75272648 0.89528951 1.36748356 1.45240685 1.78823223\n",
      "  1.58321501 1.68523946]]\n",
      "SparsePauliOp(['III', 'IIX', 'IIZ', 'IXI', 'IXX', 'IXZ', 'IYY', 'IZI', 'IZX', 'IZZ', 'XII', 'XIX', 'XIZ', 'XXI', 'XXX', 'XXZ', 'XYY', 'XZI', 'XZX', 'XZZ', 'YIY', 'YXY', 'YYI', 'YYX', 'YYZ', 'YZY', 'ZII', 'ZIX', 'ZIZ', 'ZXI', 'ZXX', 'ZXZ', 'ZYY', 'ZZI', 'ZZX', 'ZZZ'],\n",
      "              coeffs=[-1.95018082e+00+0.j, -1.39236457e+00+0.j,  2.46503875e-01+0.j,\n",
      " -1.37320843e+00+0.j, -1.39709309e+00+0.j,  3.43740320e-01+0.j,\n",
      " -1.12479222e-02+0.j, -1.27905469e-01+0.j, -2.74929129e-01+0.j,\n",
      "  2.09248742e-01+0.j, -1.31580757e+00+0.j, -1.26892226e+00+0.j,\n",
      "  2.27975105e-01+0.j, -1.37454642e+00+0.j, -1.54787810e+00+0.j,\n",
      "  2.14207797e-01+0.j, -9.39827470e-02+0.j, -5.20867577e-02+0.j,\n",
      " -7.57940955e-04+0.j,  1.24212361e-01+0.j, -2.43445902e-01+0.j,\n",
      " -2.77327981e-01+0.j,  2.81233700e-01-0.j,  9.86681450e-02-0.j,\n",
      "  1.17261441e-01-0.j,  1.29428908e-01-0.j,  1.21037165e-01+0.j,\n",
      "  2.43406643e-01+0.j,  2.60666515e-01+0.j,  1.41707057e-01+0.j,\n",
      "  2.64963653e-01+0.j,  7.04235803e-02+0.j,  1.98401972e-01-0.j,\n",
      " -1.30016026e-01+0.j, -2.22372934e-01+0.j, -1.64677696e-01+0.j])\n"
     ]
    }
   ],
   "execution_count": 191
  },
  {
   "metadata": {
    "ExecuteTime": {
     "end_time": "2025-07-16T11:15:16.426899Z",
     "start_time": "2025-07-16T11:15:16.410017Z"
    }
   },
   "cell_type": "code",
   "source": [
    "# Step 3: Group Pauli terms using ObservableCollection\n",
    "collection = ObservableCollection(pauli_op.paulis)\n",
    "\n",
    "print(f\"\\nTotal QWC Groups formed: {len(collection.groups)}\")\n",
    "\n",
    "# Step 4: Show group contents\n",
    "for idx, group in enumerate(collection.groups):\n",
    "    print(f\"\\nGroup {idx + 1}:\")\n",
    "    print(\"  Measurement basis (general observable):\", group.general_observable)\n",
    "    print(\"  Commuting Pauli terms:\")\n",
    "    for term in group.commuting_observables:\n",
    "        print(\"   \", term)"
   ],
   "id": "67d48d05596635df",
   "outputs": [
    {
     "name": "stdout",
     "output_type": "stream",
     "text": [
      "\n",
      "Total QWC Groups formed: 14\n",
      "\n",
      "Group 1:\n",
      "  Measurement basis (general observable): XYY\n",
      "  Commuting Pauli terms:\n",
      "    XYY\n",
      "    IYY\n",
      "    XII\n",
      "    III\n",
      "\n",
      "Group 2:\n",
      "  Measurement basis (general observable): YXY\n",
      "  Commuting Pauli terms:\n",
      "    YXY\n",
      "    YIY\n",
      "    IXI\n",
      "\n",
      "Group 3:\n",
      "  Measurement basis (general observable): YYX\n",
      "  Commuting Pauli terms:\n",
      "    YYX\n",
      "    YYI\n",
      "    IIX\n",
      "\n",
      "Group 4:\n",
      "  Measurement basis (general observable): YYZ\n",
      "  Commuting Pauli terms:\n",
      "    YYZ\n",
      "    IIZ\n",
      "\n",
      "Group 5:\n",
      "  Measurement basis (general observable): YZY\n",
      "  Commuting Pauli terms:\n",
      "    YZY\n",
      "    IZI\n",
      "\n",
      "Group 6:\n",
      "  Measurement basis (general observable): ZYY\n",
      "  Commuting Pauli terms:\n",
      "    ZYY\n",
      "    ZII\n",
      "\n",
      "Group 7:\n",
      "  Measurement basis (general observable): XXX\n",
      "  Commuting Pauli terms:\n",
      "    XXX\n",
      "    IXX\n",
      "    XIX\n",
      "    XXI\n",
      "\n",
      "Group 8:\n",
      "  Measurement basis (general observable): XXZ\n",
      "  Commuting Pauli terms:\n",
      "    XXZ\n",
      "    IXZ\n",
      "    XIZ\n",
      "\n",
      "Group 9:\n",
      "  Measurement basis (general observable): XZX\n",
      "  Commuting Pauli terms:\n",
      "    XZX\n",
      "    IZX\n",
      "    XZI\n",
      "\n",
      "Group 10:\n",
      "  Measurement basis (general observable): XZZ\n",
      "  Commuting Pauli terms:\n",
      "    XZZ\n",
      "    IZZ\n",
      "\n",
      "Group 11:\n",
      "  Measurement basis (general observable): ZXX\n",
      "  Commuting Pauli terms:\n",
      "    ZXX\n",
      "    ZIX\n",
      "    ZXI\n",
      "\n",
      "Group 12:\n",
      "  Measurement basis (general observable): ZXZ\n",
      "  Commuting Pauli terms:\n",
      "    ZXZ\n",
      "    ZIZ\n",
      "\n",
      "Group 13:\n",
      "  Measurement basis (general observable): ZZX\n",
      "  Commuting Pauli terms:\n",
      "    ZZX\n",
      "    ZZI\n",
      "\n",
      "Group 14:\n",
      "  Measurement basis (general observable): ZZZ\n",
      "  Commuting Pauli terms:\n",
      "    ZZZ\n"
     ]
    }
   ],
   "execution_count": 192
  },
  {
   "metadata": {},
   "cell_type": "markdown",
   "source": "Advantage of Pauli grouping",
   "id": "f84aa609e3881652"
  },
  {
   "metadata": {
    "ExecuteTime": {
     "end_time": "2025-07-16T11:15:16.457798Z",
     "start_time": "2025-07-16T11:15:16.453558Z"
    }
   },
   "cell_type": "code",
   "source": [
    "# Step 5: Print grouping advantage metric\n",
    "num_terms = len(pauli_op)\n",
    "num_groups = len(collection.groups)\n",
    "efficiency = num_terms / num_groups\n",
    "reduction_ratio = (1 - (num_groups / num_terms)) * 100\n",
    "\n",
    "print(\"\\n\" + \"=\"*50)\n",
    "print(\"📊 Measurement Optimization Summary\")\n",
    "print(f\"🔢 Total Pauli terms: {num_terms}\")\n",
    "print(f\"📦 Total QWC groups (unique basis rotations needed): {num_groups}\")\n",
    "print(f\"⚙️ Grouping Efficiency (terms per measurement basis): {efficiency:.2f}\")\n",
    "print(f\"📉 Reduction in circuit count: {reduction_ratio:.2f}%\")\n",
    "print(\"=\"*50)\n"
   ],
   "id": "47257ce7f2b4074a",
   "outputs": [
    {
     "name": "stdout",
     "output_type": "stream",
     "text": [
      "\n",
      "==================================================\n",
      "📊 Measurement Optimization Summary\n",
      "🔢 Total Pauli terms: 36\n",
      "📦 Total QWC groups (unique basis rotations needed): 14\n",
      "⚙️ Grouping Efficiency (terms per measurement basis): 2.57\n",
      "📉 Reduction in circuit count: 61.11%\n",
      "==================================================\n"
     ]
    }
   ],
   "execution_count": 193
  },
  {
   "metadata": {},
   "cell_type": "markdown",
   "source": "Now we generate a banded hermitian matrix. Then we do its pauli decomposition. Once the decomposition is done, we try to filter out the paulis which has long correlation which is not good for NISQ for this banded structure. Once this is done we compare the number of paulis and performance in VQE.",
   "id": "425761cb465bca7e"
  },
  {
   "metadata": {
    "ExecuteTime": {
     "end_time": "2025-07-16T11:15:16.501495Z",
     "start_time": "2025-07-16T11:15:16.483734Z"
    }
   },
   "cell_type": "code",
   "source": [
    "import numpy as np\n",
    "from qiskit.quantum_info import Operator, SparsePauliOp\n",
    "from scipy.linalg import eigh\n",
    "\n",
    "# Parameters\n",
    "qubits = 5\n",
    "dim = 2**qubits\n",
    "\n",
    "def generate_covariance_band_decay_matrix(n, bandwidth, decay_rate):\n",
    "    A = np.zeros((n, n))\n",
    "    for i in range(n):\n",
    "        for j in range(n):\n",
    "            distance = abs(i - j)\n",
    "            decay = np.exp(-decay_rate * (distance / bandwidth) ** 2)\n",
    "            A[i, j] = decay * np.random.rand()\n",
    "\n",
    "    C = A @ A.T  # Create covariance matrix\n",
    "    eigvals, eigvecs = np.linalg.eigh(C)  # Sorted ascending by default\n",
    "\n",
    "    # Define small value inside the function\n",
    "    small_value = 1e-6\n",
    "\n",
    "    # Sort indices of eigenvalues in descending order\n",
    "    sorted_indices = np.argsort(eigvals)[::-1]\n",
    "\n",
    "    # Copy eigenvalues and modify\n",
    "    eigvals_modified = eigvals.copy()\n",
    "    eigvals_modified[sorted_indices[5:15]] = small_value  # Set 6th–15th largest to small value\n",
    "\n",
    "    # Reconstruct matrix\n",
    "    return eigvecs @ np.diag(eigvals_modified) @ eigvecs.T\n",
    "\n",
    "\n",
    "# Step 1: Generate the matrix\n",
    "H_matrix = generate_covariance_band_decay_matrix(dim, bandwidth=15, decay_rate=120)\n",
    "\n",
    "# Step 2: Convert to Pauli operator\n",
    "op = Operator(H_matrix)\n",
    "pauli_op = SparsePauliOp.from_operator(op)\n",
    "\n",
    "# Step 3: Filter local Pauli terms\n",
    "def is_local(pauli_str, max_distance):\n",
    "    indices = [i for i, p in enumerate(pauli_str) if p != 'I']\n",
    "    if len(indices) <= 1:\n",
    "        return True\n",
    "    return max(indices) - min(indices) <= max_distance\n",
    "\n",
    "filtered_labels = []\n",
    "filtered_coeffs = []\n",
    "\n",
    "for coeff, label in zip(pauli_op.coeffs, pauli_op.paulis.to_labels()):\n",
    "    if is_local(label, max_distance=3):  # Nearest-neighbor locality\n",
    "        filtered_labels.append(label)\n",
    "        filtered_coeffs.append(coeff)\n",
    "\n",
    "# Step 4: Rebuild operator\n",
    "filtered_op = SparsePauliOp.from_list(list(zip(filtered_labels, filtered_coeffs)))\n",
    "filtered_matrix = filtered_op.to_operator().data\n",
    "\n",
    "# Step 5: Compute eigenvalues\n",
    "eigvals_full = np.linalg.eigvalsh(H_matrix)\n",
    "eigvals_local = np.linalg.eigvalsh(filtered_matrix)\n",
    "\n",
    "print(\"🔹 Full Hamiltonian Eigenvalues:\")\n",
    "print(np.round(eigvals_full, 4))\n",
    "\n",
    "print(\"\\n🔹 Local (banded) Pauli Hamiltonian Eigenvalues:\")\n",
    "print(np.round(eigvals_local, 4))\n"
   ],
   "id": "74b78e2ffe96e573",
   "outputs": [
    {
     "name": "stdout",
     "output_type": "stream",
     "text": [
      "🔹 Full Hamiltonian Eigenvalues:\n",
      "[0.0000e+00 0.0000e+00 0.0000e+00 0.0000e+00 0.0000e+00 0.0000e+00\n",
      " 0.0000e+00 0.0000e+00 0.0000e+00 0.0000e+00 0.0000e+00 2.0000e-04\n",
      " 1.2000e-03 2.9000e-03 3.6000e-03 6.9000e-03 1.9800e-02 3.1100e-02\n",
      " 5.8000e-02 8.4700e-02 8.5200e-02 1.1660e-01 1.1980e-01 1.3360e-01\n",
      " 2.2480e-01 2.7850e-01 2.9800e-01 1.4218e+00 1.5282e+00 1.6864e+00\n",
      " 1.9009e+00 2.0876e+00]\n",
      "\n",
      "🔹 Local (banded) Pauli Hamiltonian Eigenvalues:\n",
      "[-3.2240e-01 -2.7370e-01 -2.0340e-01 -9.3800e-02 -5.9400e-02 -3.3400e-02\n",
      " -7.9000e-03 -1.0000e-04  6.3000e-03  3.0600e-02  4.2300e-02  6.1600e-02\n",
      "  8.0300e-02  8.3600e-02  9.6800e-02  1.0400e-01  1.2320e-01  1.4490e-01\n",
      "  1.6340e-01  1.9090e-01  2.5410e-01  2.6860e-01  3.0220e-01  3.2940e-01\n",
      "  4.2410e-01  5.2160e-01  5.5710e-01  1.1492e+00  1.2634e+00  1.5413e+00\n",
      "  1.5734e+00  1.7713e+00]\n"
     ]
    }
   ],
   "execution_count": 194
  },
  {
   "metadata": {},
   "cell_type": "markdown",
   "source": "Calculating the pauli decomposition advantage of banded structure through local correlation",
   "id": "b8277a6fe30127a8"
  },
  {
   "metadata": {
    "ExecuteTime": {
     "end_time": "2025-07-16T11:15:16.535353Z",
     "start_time": "2025-07-16T11:15:16.531932Z"
    }
   },
   "cell_type": "code",
   "source": [
    "total_terms = len(pauli_op)\n",
    "local_terms = len(filtered_op)\n",
    "avoided_terms = total_terms - local_terms\n",
    "percent_reduced = 100 * avoided_terms / total_terms\n",
    "\n",
    "print(f\"\\n🔸 Total Pauli terms in full H: {total_terms}\")\n",
    "print(f\"🔸 Local Pauli terms kept     : {local_terms}\")\n",
    "print(f\"🔸 Pauli terms avoided        : {avoided_terms} ({percent_reduced:.2f}%)\")"
   ],
   "id": "b693e5606d96ee35",
   "outputs": [
    {
     "name": "stdout",
     "output_type": "stream",
     "text": [
      "\n",
      "🔸 Total Pauli terms in full H: 528\n",
      "🔸 Local Pauli terms kept     : 236\n",
      "🔸 Pauli terms avoided        : 292 (55.30%)\n"
     ]
    }
   ],
   "execution_count": 195
  },
  {
   "metadata": {},
   "cell_type": "markdown",
   "source": "Printing (k+1)th row for checking the decaying effect",
   "id": "30f7cb61e5c52b2a"
  },
  {
   "metadata": {
    "ExecuteTime": {
     "end_time": "2025-07-16T11:15:16.569198Z",
     "start_time": "2025-07-16T11:15:16.566013Z"
    }
   },
   "cell_type": "code",
   "source": "print(H_matrix[2,:])",
   "id": "252b570fd1647be5",
   "outputs": [
    {
     "name": "stdout",
     "output_type": "stream",
     "text": [
      "[ 0.00226152 -0.05091196  0.07647554 -0.00200696  0.04100671  0.10185802\n",
      "  0.06922846  0.05710395  0.04660929  0.00570408  0.02484106 -0.01059515\n",
      " -0.01500898 -0.00361711 -0.00733833 -0.00969963 -0.00949996 -0.00741652\n",
      " -0.00221249  0.0047852   0.00651592  0.00362246  0.00236893  0.00044094\n",
      " -0.00254404 -0.00723278 -0.0041434  -0.01049375 -0.00318222 -0.00030954\n",
      "  0.00512553  0.00654686]\n"
     ]
    }
   ],
   "execution_count": 196
  },
  {
   "metadata": {},
   "cell_type": "markdown",
   "source": "Just checking the IPR values for the eigenvectors of the hamiltonian",
   "id": "515aa6f14123d920"
  },
  {
   "metadata": {
    "ExecuteTime": {
     "end_time": "2025-07-16T11:15:16.685597Z",
     "start_time": "2025-07-16T11:15:16.601636Z"
    }
   },
   "cell_type": "code",
   "source": [
    "def compute_ipr(eigenvectors):\n",
    "    \"\"\"\n",
    "    Compute Inverse Participation Ratio (IPR) for each eigenvector.\n",
    "    Parameters:\n",
    "        eigenvectors (np.ndarray): Matrix with eigenvectors as columns.\n",
    "    Returns:\n",
    "        list: IPR values.\n",
    "    \"\"\"\n",
    "    ipr = []\n",
    "    for v in eigenvectors.T:  # eigenvectors are columns\n",
    "        norm_v = v / np.linalg.norm(v)\n",
    "        ipr_val = np.sum(np.abs(norm_v)**4)\n",
    "        ipr.append(ipr_val)\n",
    "    return np.array(ipr)\n",
    "\n",
    "# Example: Random symmetric matrix (can replace with your banded matrix)\n",
    "\n",
    "\n",
    "# Eigen decomposition\n",
    "eigvals, eigvecs = np.linalg.eigh(filtered_matrix)\n",
    "\n",
    "# Compute IPR\n",
    "ipr_values = compute_ipr(eigvecs)\n",
    "\n",
    "# Plot IPR\n",
    "plt.figure(figsize=(8, 4))\n",
    "plt.plot(eigvals, ipr_values, 'o-')\n",
    "plt.xlabel('Eigenvalue')\n",
    "plt.ylabel('IPR (Localization)')\n",
    "plt.title('Localization of Eigenvectors via IPR')\n",
    "plt.grid(True)\n",
    "plt.show()"
   ],
   "id": "2fcd5a220de31a1c",
   "outputs": [
    {
     "data": {
      "text/plain": [
       "<Figure size 800x400 with 1 Axes>"
      ],
      "image/png": "[encoded data removed]"
     },
     "metadata": {},
     "output_type": "display_data"
    }
   ],
   "execution_count": 197
  },
  {
   "metadata": {},
   "cell_type": "markdown",
   "source": "Ansatz selection is from realamplitude because the matrix is real and the eigenvectors will be real, this is a simple ansatz in this regard.",
   "id": "da49d441f4716fcb"
  },
  {
   "metadata": {
    "ExecuteTime": {
     "end_time": "2025-07-16T11:15:16.859363Z",
     "start_time": "2025-07-16T11:15:16.718416Z"
    }
   },
   "cell_type": "code",
   "source": [
    "from qiskit.circuit.library import real_amplitudes\n",
    "qc=QuantumCircuit(qubits)\n",
    "# for i in range(qubits):\n",
    "#     qc.h(i)\n",
    "ansatz=real_amplitudes(num_qubits=qubits,reps=1)\n",
    "qc=qc.compose(ansatz)\n",
    "qc.draw(\"mpl\")"
   ],
   "id": "9cba270de5b80ec7",
   "outputs": [
    {
     "data": {
      "text/plain": [
       "<Figure size 621.941x451.5 with 1 Axes>"
      ],
      "image/png": "[encoded data removed]"
     },
     "execution_count": 198,
     "metadata": {},
     "output_type": "execute_result"
    }
   ],
   "execution_count": 198
  },
  {
   "metadata": {
    "ExecuteTime": {
     "end_time": "2025-07-16T11:15:17.037465Z",
     "start_time": "2025-07-16T11:15:16.896429Z"
    }
   },
   "cell_type": "code",
   "source": [
    "qc2=QuantumCircuit(qubits)\n",
    "qc2=qc2.compose(ansatz)\n",
    "qc2.draw(\"mpl\")"
   ],
   "id": "548aea4aa3fee030",
   "outputs": [
    {
     "data": {
      "text/plain": [
       "<Figure size 621.941x451.5 with 1 Axes>"
      ],
      "image/png": "[encoded data removed]"
     },
     "execution_count": 199,
     "metadata": {},
     "output_type": "execute_result"
    }
   ],
   "execution_count": 199
  },
  {
   "metadata": {},
   "cell_type": "markdown",
   "source": "Using SparsePauli VQE without enforcing band structure, what excited-state energy is obtained from the full Hamiltonian?",
   "id": "4e0c53f3366439db"
  },
  {
   "metadata": {
    "ExecuteTime": {
     "end_time": "2025-07-16T11:15:23.512465Z",
     "start_time": "2025-07-16T11:15:17.069245Z"
    }
   },
   "cell_type": "code",
   "source": [
    "from qiskit.primitives import StatevectorEstimator\n",
    "from scipy.optimize import minimize\n",
    "def objfun(params,circuit,hamiltonian):\n",
    "    estimator=StatevectorEstimator()\n",
    "    job=estimator.run([(circuit,hamiltonian,[params])])\n",
    "    return job.result()[0].data.evs\n",
    "params=np.random.randn(qc.num_parameters)\n",
    "z=minimize(objfun,params,args=(qc,-pauli_op),method=\"SLSQP\",options={'maxiter':20, 'ftol':1e-6})\n",
    "print(z)"
   ],
   "id": "6871a583790398e6",
   "outputs": [
    {
     "name": "stdout",
     "output_type": "stream",
     "text": [
      " message: Iteration limit reached\n",
      " success: False\n",
      "  status: 9\n",
      "     fun: -1.8269281219091755\n",
      "       x: [ 2.799e-01 -2.921e+00  5.649e-02 -4.832e+00  1.546e+00\n",
      "            1.848e+00 -1.293e+00 -5.970e-01  1.599e+00  1.590e+00]\n",
      "     nit: 20\n",
      "     jac: [ 1.996e-04  1.370e-03 -7.029e-04 -8.653e-05  6.265e-04\n",
      "           -1.614e-04  2.767e-04 -4.930e-04  8.617e-04 -1.105e-03]\n",
      "    nfev: 221\n",
      "    njev: 20\n"
     ]
    }
   ],
   "execution_count": 200
  },
  {
   "metadata": {},
   "cell_type": "markdown",
   "source": "Difference if we use trained initialization based on the prior knowledge that the eigen state is delocalized",
   "id": "8eb0ba838b0c35e6"
  },
  {
   "metadata": {
    "ExecuteTime": {
     "end_time": "2025-07-16T11:15:30.087950Z",
     "start_time": "2025-07-16T11:15:23.547807Z"
    }
   },
   "cell_type": "code",
   "source": [
    "from qiskit.quantum_info import Statevector\n",
    "import numpy as np\n",
    "\n",
    "def sample_params_for_ipr(circuit, ipr_low=0.1, ipr_high=0.3, max_trials=500):\n",
    "    n_params = circuit.num_parameters\n",
    "    for trial in range(max_trials):\n",
    "        trial_params = np.random.randn(n_params)\n",
    "        sv = Statevector(circuit.assign_parameters(trial_params)).data\n",
    "        ipr = np.sum(np.abs(sv) ** 4)\n",
    "        if ipr_low <= ipr <= ipr_high:\n",
    "            print(f\"✓ Found IPR = {ipr:.3f} on trial {trial}\")\n",
    "            return trial_params\n",
    "    raise ValueError(f\"Failed to find IPR ∈ [{ipr_low}, {ipr_high}] in {max_trials} trials.\")\n",
    "t_params=sample_params_for_ipr(qc2, ipr_low=0.2, ipr_high=0.4, max_trials=500)\n",
    "z_pure=minimize(objfun,t_params,args=(qc2,-pauli_op),method=\"SLSQP\",options={'maxiter':20, 'ftol':1e-6})\n",
    "print(z_pure)"
   ],
   "id": "f6aa219a9b4b00d7",
   "outputs": [
    {
     "name": "stdout",
     "output_type": "stream",
     "text": [
      "✓ Found IPR = 0.258 on trial 7\n",
      " message: Iteration limit reached\n",
      " success: False\n",
      "  status: 9\n",
      "     fun: -2.008813109186592\n",
      "       x: [-3.038e-01 -2.418e+00  1.985e-02  5.528e-02  2.595e+00\n",
      "            1.507e+00 -1.375e+00 -1.889e+00  1.492e-01  5.330e-01]\n",
      "     nit: 20\n",
      "     jac: [-2.021e-05  5.823e-05  4.431e-04  1.039e-04  6.050e-06\n",
      "           -1.244e-04 -1.376e-04 -2.481e-04 -3.872e-04 -6.303e-05]\n",
      "    nfev: 224\n",
      "    njev: 20\n"
     ]
    }
   ],
   "execution_count": 201
  },
  {
   "metadata": {},
   "cell_type": "markdown",
   "source": "For the banded, locally correlated Hamiltonian, we construct a filtered matrix that retains only local interaction terms. With this structured form, we aim to compute the excited-state eigenvalue, and investigate how well the variational algorithm captures delocalized excitations under this constraint.",
   "id": "40c7972d047c522e"
  },
  {
   "metadata": {
    "ExecuteTime": {
     "end_time": "2025-07-16T11:20:41.046686Z",
     "start_time": "2025-07-16T11:20:36.231687Z"
    }
   },
   "cell_type": "code",
   "source": [
    "z1=minimize(objfun,params,args=(qc,-filtered_op),method=\"SLSQP\",options={'maxiter':30, 'ftol':1e-6})\n",
    "print(z1)"
   ],
   "id": "c1d3e205c980f43b",
   "outputs": [
    {
     "name": "stdout",
     "output_type": "stream",
     "text": [
      " message: Iteration limit reached\n",
      " success: False\n",
      "  status: 9\n",
      "     fun: -1.6960374541839158\n",
      "       x: [ 1.044e-01 -5.062e-01 -2.638e-01  9.169e-01  1.664e+00\n",
      "            1.685e+00  1.594e+00  1.895e+00 -2.006e-01  1.476e+00]\n",
      "     nit: 30\n",
      "     jac: [ 7.701e-03  8.111e-03  3.249e-02  1.226e-03  3.305e-03\n",
      "            3.011e-03  1.654e-03  7.749e-03 -1.676e-03 -3.539e-03]\n",
      "    nfev: 332\n",
      "    njev: 30\n"
     ]
    }
   ],
   "execution_count": 208
  },
  {
   "metadata": {},
   "cell_type": "markdown",
   "source": [
    "Comparison of Measurement Cost via Pauli Grouping:\n",
    "We analyze the reduction in the number of measurements achieved through Pauli grouping. This is done by comparing the original (exact) set of Pauli terms with a filtered subset that retains only local interactions. The filtered Hamiltonian exhibits more structured and localized correlations, enabling a more compressed representation through commutation-based grouping."
   ],
   "id": "533bfd15b65bf9b3"
  },
  {
   "metadata": {
    "ExecuteTime": {
     "end_time": "2025-07-16T11:15:33.237133Z",
     "start_time": "2025-07-16T11:15:32.863258Z"
    }
   },
   "cell_type": "code",
   "source": [
    "\n",
    "\n",
    "# Full operator (no filtering)\n",
    "collection_full = ObservableCollection(pauli_op.paulis)\n",
    "\n",
    "\n",
    "collection_filtered = ObservableCollection(filtered_op.paulis)\n",
    "\n",
    "# Stats\n",
    "n_full_terms = len(pauli_op)\n",
    "n_filtered_terms = len(filtered_op)\n",
    "n_full_groups = len(collection_full.groups)\n",
    "n_filtered_groups = len(collection_filtered.groups)\n",
    "\n",
    "# Grouping Advantage Ratio (GAR)\n",
    "gar_full = n_full_terms / n_full_groups\n",
    "gar_filtered = n_filtered_terms / n_filtered_groups\n",
    "\n",
    "# Print Results\n",
    "print(\"=== Grouping Comparison ===\")\n",
    "print(f\"Total Pauli terms (full):       {n_full_terms}\")\n",
    "print(f\"Commuting groups (full):        {n_full_groups}\")\n",
    "print(f\"Grouping Advantage Ratio (full):   {gar_full:.2f}\\n\")\n",
    "\n",
    "print(f\"Total Pauli terms (filtered):   {n_filtered_terms}\")\n",
    "print(f\"Commuting groups (filtered):    {n_filtered_groups}\")\n",
    "print(f\"Grouping Advantage Ratio (filtered): {gar_filtered:.2f}\")\n"
   ],
   "id": "cf9b9ea7859305eb",
   "outputs": [
    {
     "name": "stdout",
     "output_type": "stream",
     "text": [
      "=== Grouping Comparison ===\n",
      "Total Pauli terms (full):       528\n",
      "Commuting groups (full):        122\n",
      "Grouping Advantage Ratio (full):   4.33\n",
      "\n",
      "Total Pauli terms (filtered):   236\n",
      "Commuting groups (filtered):    41\n",
      "Grouping Advantage Ratio (filtered): 5.76\n"
     ]
    }
   ],
   "execution_count": 203
  },
  {
   "metadata": {},
   "cell_type": "markdown",
   "source": "Our Next target is to explore the localization effect of the eigenvectors in such scenarios and blend this into VQE cost function.",
   "id": "b2a7b68749e9245c"
  },
  {
   "metadata": {
    "ExecuteTime": {
     "end_time": "2025-07-16T11:15:33.275390Z",
     "start_time": "2025-07-16T11:15:33.271625Z"
    }
   },
   "cell_type": "code",
   "source": [
    "def objfun_ipr_range(params, circuit, hamiltonian, ipr_low=1/4, ipr_high=1/3, weight=50.0):\n",
    "    # Energy via estimator\n",
    "    estimator = StatevectorEstimator()\n",
    "    job = estimator.run([(circuit, hamiltonian, [params])])\n",
    "    energy = job.result()[0].data.evs\n",
    "\n",
    "    # Get statevector\n",
    "    psi = circuit.assign_parameters(params)\n",
    "    sv = Statevector(psi).data\n",
    "    ipr = np.sum(np.abs(sv)**4)\n",
    "\n",
    "    # Penalty: only if ipr is out of range\n",
    "    if ipr < ipr_low:\n",
    "        penalty = weight * (ipr - ipr_low)**2\n",
    "    elif ipr > ipr_high:\n",
    "        penalty = weight * (ipr - ipr_high)**2\n",
    "    else:\n",
    "        penalty = 0.0\n",
    "\n",
    "    return energy + penalty\n"
   ],
   "id": "c8388aff50cfe8e3",
   "outputs": [],
   "execution_count": 204
  },
  {
   "metadata": {
    "ExecuteTime": {
     "end_time": "2025-07-16T11:15:44.736375Z",
     "start_time": "2025-07-16T11:15:33.305549Z"
    }
   },
   "cell_type": "code",
   "source": [
    "params = np.random.randn(qc.num_parameters)\n",
    "result_ipr = minimize(\n",
    "    objfun_ipr_range,\n",
    "    params,\n",
    "    args=(qc, -filtered_op, 1/5, 1/3, 50.0),\n",
    "    method=\"BFGS\"\n",
    ")\n",
    "print(result_ipr)"
   ],
   "id": "3cb0790afc18f5ea",
   "outputs": [
    {
     "name": "stdout",
     "output_type": "stream",
     "text": [
      "  message: Optimization terminated successfully.\n",
      "  success: True\n",
      "   status: 0\n",
      "      fun: -1.6686261221614085\n",
      "        x: [ 1.403e-01 -9.978e-01 -7.137e-01  1.295e+00  1.574e+00\n",
      "             1.708e+00  1.140e+00  2.401e+00 -1.122e+00  1.560e+00]\n",
      "      nit: 61\n",
      "      jac: [ 4.470e-08 -3.695e-06  7.302e-07  2.638e-06 -8.941e-08\n",
      "             5.662e-07 -3.725e-07 -2.339e-06  3.234e-06  1.937e-07]\n",
      " hess_inv: [[ 2.983e+00  3.280e+00 ...  9.505e-01  6.569e-02]\n",
      "            [ 3.280e+00  1.744e+01 ...  3.422e+00 -2.370e-01]\n",
      "            ...\n",
      "            [ 9.505e-01  3.422e+00 ...  4.144e+00  1.341e-01]\n",
      "            [ 6.569e-02 -2.370e-01 ...  1.341e-01  2.133e+00]]\n",
      "     nfev: 748\n",
      "     njev: 68\n"
     ]
    }
   ],
   "execution_count": 205
  },
  {
   "metadata": {
    "ExecuteTime": {
     "end_time": "2025-07-16T11:15:55.396306Z",
     "start_time": "2025-07-16T11:15:44.766281Z"
    }
   },
   "cell_type": "code",
   "source": [
    "def energy_obj(x, circuit, hamiltonian):\n",
    "    # returns ⟨ψ(x)|H|ψ(x)⟩\n",
    "    est=StatevectorEstimator()\n",
    "    res = est.run([(circuit, hamiltonian, [x])]).result()\n",
    "    return res[0].data.evs\n",
    "\n",
    "def participation_minus_lower(x, circuit, lower=3.0):\n",
    "    sv  = Statevector(circuit.assign_parameters(x)).data\n",
    "    P   = 1.0/np.sum(np.abs(sv)**4)\n",
    "    return P - lower      # ≥ 0\n",
    "\n",
    "def upper_minus_participation(x, circuit, upper=4.0):\n",
    "    sv  = Statevector(circuit.assign_parameters(x)).data\n",
    "    P   = 1.0/np.sum(np.abs(sv)**4)\n",
    "    return upper - P      # ≥ 0\n",
    "\n",
    "# your already‑built, hardware‑friendly circuit:\n",
    "\n",
    "# initial guess (we sampled or zeroed it so already P∈[3,4])\n",
    "x0 = t_params\n",
    "\n",
    "cons = [\n",
    "  {'type':'ineq', 'fun': participation_minus_lower, 'args':(qc,1.0)},\n",
    "  {'type':'ineq', 'fun': upper_minus_participation, 'args':(qc,3.0)}\n",
    "]\n",
    "\n",
    "res = minimize(\n",
    "    energy_obj,\n",
    "    x0,\n",
    "    args=(qc, -pauli_op),\n",
    "    method='SLSQP',        # or 'trust-constr'\n",
    "    constraints=cons,\n",
    "    options={'maxiter':30, 'ftol':1e-6}\n",
    ")\n",
    "\n",
    "print(f\"done: energy={res.fun:.6f}, P={1/np.sum(np.abs(Statevector(qc.assign_parameters(res.x)).data)**4):.3f}\")\n",
    "print(res)\n"
   ],
   "id": "3687447478576362",
   "outputs": [
    {
     "name": "stdout",
     "output_type": "stream",
     "text": [
      "done: energy=-1.503491, P=3.000\n",
      " message: Iteration limit reached\n",
      " success: False\n",
      "  status: 9\n",
      "     fun: -1.5034912460005427\n",
      "       x: [ 5.180e-01 -2.867e+00  1.319e+00  1.233e+00  1.537e+00\n",
      "            1.593e+00 -1.254e+00  1.017e+00 -1.456e+00 -1.526e+00]\n",
      "     nit: 30\n",
      "     jac: [ 1.269e-01  1.470e-01 -8.292e-02  8.645e-02  1.206e-02\n",
      "           -1.332e-01  1.117e-01  8.343e-02 -1.967e-03  5.337e-03]\n",
      "    nfev: 341\n",
      "    njev: 30\n"
     ]
    }
   ],
   "execution_count": 206
  }
 ],
 "metadata": {
  "kernelspec": {
   "display_name": "Python 3",
   "language": "python",
   "name": "python3"
  },
  "language_info": {
   "codemirror_mode": {
    "name": "ipython",
    "version": 2
   },
   "file_extension": ".py",
   "mimetype": "text/x-python",
   "name": "python",
   "nbconvert_exporter": "python",
   "pygments_lexer": "ipython2",
   "version": "2.7.6"
  }
 },
 "nbformat": 4,
 "nbformat_minor": 5
}
