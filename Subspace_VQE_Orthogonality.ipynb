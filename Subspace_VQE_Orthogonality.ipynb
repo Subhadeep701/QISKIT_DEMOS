{
 "cells": [
  {
   "cell_type": "code",
   "id": "initial_id",
   "metadata": {
    "collapsed": true,
    "ExecuteTime": {
     "end_time": "2025-06-27T20:37:56.796003Z",
     "start_time": "2025-06-27T20:37:56.786555Z"
    }
   },
   "source": [
    "from qiskit import QuantumCircuit\n",
    "from qiskit.circuit.library import TwoLocal\n",
    "from qiskit.quantum_info import Statevector,Operator,SparsePauliOp\n",
    "from qiskit.primitives import StatevectorSampler,StatevectorEstimator\n",
    "from scipy.optimize import minimize\n",
    "import numpy as np"
   ],
   "outputs": [],
   "execution_count": 37
  },
  {
   "metadata": {},
   "cell_type": "markdown",
   "source": "First we show that for any ansatz, we can start from two different computational basis and applying the ansatz still holds the orthogonality.",
   "id": "bae27906a47b7111"
  },
  {
   "metadata": {
    "ExecuteTime": {
     "end_time": "2025-06-27T20:06:15.620526Z",
     "start_time": "2025-06-27T20:06:15.516943Z"
    }
   },
   "cell_type": "code",
   "source": [
    "qubits=3\n",
    "qc_ansatz=TwoLocal(qubits,rotation_blocks=\"rx\",entanglement=\"linear\",entanglement_blocks=\"cx\",reps=1)\n",
    "qc=QuantumCircuit(qubits,qubits)\n",
    "qc2=qc.compose(qc_ansatz)\n",
    "theta=np.random.rand(qc_ansatz.num_parameters)\n",
    "qc2=qc2.assign_parameters(theta)\n",
    "z1=Statevector(qc2).data\n",
    "print(z1)\n",
    "qc2.decompose().draw(\"mpl\")"
   ],
   "id": "3f704c9a944f56c9",
   "outputs": [
    {
     "name": "stdout",
     "output_type": "stream",
     "text": [
      "[ 0.58985003+0.068645j   -0.0096677 -0.06701054j -0.13361037-0.24816546j\n",
      " -0.17084454+0.03912878j -0.05395708-0.61451579j -0.17996549+0.03714567j\n",
      " -0.31571978-0.12824745j -0.01456969-0.04446475j]\n"
     ]
    },
    {
     "data": {
      "text/plain": [
       "<Figure size 454.719x367.889 with 1 Axes>"
      ],
      "image/png": "[encoded data removed]"
     },
     "execution_count": 29,
     "metadata": {},
     "output_type": "execute_result"
    }
   ],
   "execution_count": 29
  },
  {
   "metadata": {},
   "cell_type": "markdown",
   "source": "Starting from different computational basis by applying x gate in the first qubit.",
   "id": "f98fd1d98c947cee"
  },
  {
   "metadata": {
    "ExecuteTime": {
     "end_time": "2025-06-27T20:06:18.729739Z",
     "start_time": "2025-06-27T20:06:18.578112Z"
    }
   },
   "cell_type": "code",
   "source": [
    "qc3=QuantumCircuit(qubits,qubits)\n",
    "qc3.x(0)\n",
    "qc3=qc3.compose(qc_ansatz)\n",
    "qc3=qc3.assign_parameters(theta)\n",
    "z2=Statevector(qc3).data\n",
    "qc3.decompose().draw(\"mpl\")\n"
   ],
   "id": "fea8fd6ba1f5e1bf",
   "outputs": [
    {
     "data": {
      "text/plain": [
       "<Figure size 538.33x367.889 with 1 Axes>"
      ],
      "image/png": "[encoded data removed]"
     },
     "execution_count": 30,
     "metadata": {},
     "output_type": "execute_result"
    }
   ],
   "execution_count": 30
  },
  {
   "metadata": {},
   "cell_type": "markdown",
   "source": "Now examining the overlap of both the output states",
   "id": "fb0266e3a540b134"
  },
  {
   "metadata": {
    "ExecuteTime": {
     "end_time": "2025-06-27T20:24:02.351271Z",
     "start_time": "2025-06-27T20:24:02.333379Z"
    }
   },
   "cell_type": "code",
   "source": [
    "import numpy as np\n",
    "c=np.dot(np.conj(z1),z2)\n",
    "print(c)"
   ],
   "id": "6b8e3c79c809e1e3",
   "outputs": [
    {
     "name": "stdout",
     "output_type": "stream",
     "text": [
      "(6.938893903907228e-18+0j)\n"
     ]
    }
   ],
   "execution_count": 35
  },
  {
   "metadata": {},
   "cell_type": "markdown",
   "source": "Now Lets check the performance for VQE. We find the first eigenstate and store the theta values. Then we check with respect to different computational basis states.",
   "id": "5f019a6128ecab2c"
  },
  {
   "metadata": {},
   "cell_type": "markdown",
   "source": "First we generate a hermitian operator over which the VQE will run",
   "id": "9792dbeb90214bcd"
  },
  {
   "metadata": {
    "ExecuteTime": {
     "end_time": "2025-06-27T20:42:08.867923Z",
     "start_time": "2025-06-27T20:42:08.857392Z"
    }
   },
   "cell_type": "code",
   "source": [
    "def generate_hermitian_matrix(n):\n",
    "    # Generate a random complex matrix\n",
    "    A = np.random.rand(n, n) + 1j * np.random.rand(n, n)\n",
    "    # Construct a Hermitian matrix as (A + A.H) / 2\n",
    "    H = (A + A.conj().T) / 2\n",
    "    return H\n",
    "hermitian_matrix = generate_hermitian_matrix(2**qubits)\n",
    "print(f\"Hermitian Matrix:{hermitian_matrix}\")\n",
    "z=Operator(hermitian_matrix)\n",
    "Pauli=SparsePauliOp.from_operator(z)\n",
    "print(Pauli)\n",
    "qubits=int(np.log2(len(hermitian_matrix)))\n",
    "print(qubits)"
   ],
   "id": "d2b7c1d8a199bb0a",
   "outputs": [
    {
     "name": "stdout",
     "output_type": "stream",
     "text": [
      "Hermitian Matrix:[[0.35309138+0.j         0.94681864-0.01000421j 0.28814689-0.06880535j\n",
      "  0.66817257+0.149352j  ]\n",
      " [0.94681864+0.01000421j 0.64147754+0.j         0.38653109-0.01998688j\n",
      "  0.708931  -0.04558747j]\n",
      " [0.28814689+0.06880535j 0.38653109+0.01998688j 0.42689184+0.j\n",
      "  0.58242617+0.05914521j]\n",
      " [0.66817257-0.149352j   0.708931  +0.04558747j 0.58242617-0.05914521j\n",
      "  0.94575786+0.j        ]]\n",
      "SparsePauliOp(['II', 'IX', 'IY', 'IZ', 'XI', 'XX', 'XY', 'XZ', 'YI', 'YX', 'YY', 'YZ', 'ZI', 'ZX', 'ZY', 'ZZ'],\n",
      "              coeffs=[ 0.59180465+0.j,  0.7646224 +0.j, -0.0245705 +0.j, -0.20181305+0.j,\n",
      "  0.49853894+0.j,  0.52735183+0.j, -0.08466944+0.j, -0.21039206+0.j,\n",
      "  0.05719641+0.j, -0.06468256+0.j, -0.14082074+0.j,  0.01160894+0.j,\n",
      " -0.0945202 +0.j,  0.18219624+0.j,  0.03457471+0.j,  0.05761997+0.j])\n",
      "2\n"
     ]
    }
   ],
   "execution_count": 40
  },
  {
   "metadata": {},
   "cell_type": "markdown",
   "source": "Now recall the ansatz we have used previously, but the parameters will be variables and will be optimized through StatevectorEstimator",
   "id": "da79ac1c6712bdcf"
  },
  {
   "metadata": {
    "ExecuteTime": {
     "end_time": "2025-06-27T21:00:06.541782Z",
     "start_time": "2025-06-27T21:00:06.455745Z"
    }
   },
   "cell_type": "code",
   "source": [
    "qc_ansatz_vqe=TwoLocal(qubits,rotation_blocks=[\"rx\",\"ry\"],entanglement=\"linear\",entanglement_blocks=\"cx\",reps=1)\n",
    "qc_vqe=QuantumCircuit(qubits)\n",
    "qc_vqe=qc_vqe.compose(qc_ansatz_vqe)\n",
    "theta=np.random.rand(qc_ansatz_vqe.num_parameters)\n",
    "qc_vqe.decompose().draw(\"mpl\")"
   ],
   "id": "c1f7afd8a71f345",
   "outputs": [
    {
     "data": {
      "text/plain": [
       "<Figure size 538.128x200.667 with 1 Axes>"
      ],
      "image/png": "[encoded data removed]"
     },
     "execution_count": 52,
     "metadata": {},
     "output_type": "execute_result"
    }
   ],
   "execution_count": 52
  },
  {
   "metadata": {},
   "cell_type": "markdown",
   "source": "Use Statevector Estimator primitve to calculate the energy and design the cost function",
   "id": "67e38f75e81b1fcd"
  },
  {
   "metadata": {
    "ExecuteTime": {
     "end_time": "2025-06-27T22:16:13.146933Z",
     "start_time": "2025-06-27T22:16:12.457039Z"
    }
   },
   "cell_type": "code",
   "source": [
    "estimator=StatevectorEstimator()\n",
    "def obj_fun(params,qc_fun,ham,estimator_pri):\n",
    "    job=estimator_pri.run([(qc_fun,ham,[params])]).result()[0]\n",
    "    return job.data.evs\n",
    "z=minimize(obj_fun,theta,args=(qc_vqe,Pauli,estimator),method=\"BFGS\")\n",
    "print(f\"Predicted VQE: {z['fun']}\")\n",
    "a=np.linalg.eig(hermitian_matrix)\n",
    "print(f\"True Value:{np.sort(np.real(a[0]))}\")\n",
    "#print(z)"
   ],
   "id": "3dc6cbe2c1b1b414",
   "outputs": [
    {
     "name": "stdout",
     "output_type": "stream",
     "text": [
      "Predicted VQE: -0.5008334788587936\n",
      "True Value:[-0.50083348  0.05023296  0.33886266  2.47895648]\n"
     ]
    }
   ],
   "execution_count": 127
  },
  {
   "metadata": {},
   "cell_type": "markdown",
   "source": "Now check for the obtained theta values with other computational basis states\n",
   "id": "3910f9d5f6c950b3"
  },
  {
   "metadata": {
    "ExecuteTime": {
     "end_time": "2025-06-27T22:16:16.308336Z",
     "start_time": "2025-06-27T22:16:16.180567Z"
    }
   },
   "cell_type": "code",
   "source": [
    "theta_opt=z[\"x\"]\n",
    "#print(theta_opt)\n",
    "print(f\"True eigenvalues Value:{np.sort(np.real(a[0]))}\")\n",
    "print(obj_fun(theta_opt,qc_vqe,Pauli,estimator))\n",
    "qc_vqe_o1=QuantumCircuit(qubits)\n",
    "qc_vqe_o1.x(1)\n",
    "#qc_vqe_o1.x(0)\n",
    "new_ansatz=TwoLocal(qubits,rotation_blocks=[\"rx\",\"ry\"],entanglement=\"linear\",entanglement_blocks=\"cx\",reps=1)\n",
    "qc_vqe_o1=qc_vqe_o1.compose(new_ansatz)\n",
    "print(obj_fun(theta_opt,qc_vqe_o1,Pauli,estimator))\n",
    "qc_vqe_o1.decompose().draw(\"mpl\")"
   ],
   "id": "d31037299b7b4a83",
   "outputs": [
    {
     "name": "stdout",
     "output_type": "stream",
     "text": [
      "True eigenvalues Value:[-0.50083348  0.05023296  0.33886266  2.47895648]\n",
      "[-0.50083348]\n",
      "[0.10238286]\n"
     ]
    },
    {
     "data": {
      "text/plain": [
       "<Figure size 621.739x200.667 with 1 Axes>"
      ],
      "image/png": "[encoded data removed]"
     },
     "execution_count": 128,
     "metadata": {},
     "output_type": "execute_result"
    }
   ],
   "execution_count": 128
  },
  {
   "metadata": {
    "ExecuteTime": {
     "end_time": "2025-06-27T22:16:20.219642Z",
     "start_time": "2025-06-27T22:16:20.208098Z"
    }
   },
   "cell_type": "code",
   "source": [
    "Z1=Statevector(qc_vqe_o1.assign_parameters(theta_opt)).data\n",
    "print(Z1)\n",
    "#print(a)\n",
    "Z2=Statevector(qc_vqe.assign_parameters(theta_opt)).data\n",
    "print(Z2)\n",
    "print(np.dot(np.conj(Z1),Z2))\n",
    "\n",
    "\n"
   ],
   "id": "e4c3196fe11e5b3d",
   "outputs": [
    {
     "name": "stdout",
     "output_type": "stream",
     "text": [
      "[ 0.13221723-0.06865338j -0.2034833 +0.01505181j -0.09892024+0.74143663j\n",
      "  0.09083273-0.60696724j]\n",
      "[ 0.14659855+0.73597403j -0.03422472-0.60979756j  0.13474689+0.05409825j\n",
      " -0.2026067 -0.04115665j]\n",
      "(-1.9081958235744878e-17+0j)\n"
     ]
    }
   ],
   "execution_count": 129
  },
  {
   "metadata": {
    "ExecuteTime": {
     "end_time": "2025-06-27T22:18:45.110574Z",
     "start_time": "2025-06-27T22:18:45.098186Z"
    }
   },
   "cell_type": "code",
   "source": [
    "# Compute the eigenvalues and eigenvectors of the Hermitian matrix\n",
    "eigenvalues, eigenvectors = np.linalg.eigh(hermitian_matrix)\n",
    "\n",
    "# Compute the projection of Z2 onto each eigenvector\n",
    "projections = np.dot(eigenvectors.T.conj(), Z2)\n",
    "\n",
    "# Compute the distances\n",
    "distances = [np.linalg.norm(Z2 - proj * eigvec) for proj, eigvec in zip(projections, eigenvectors.T)]\n",
    "\n",
    "# Find the minimum distance\n",
    "min_distance = min(distances)\n",
    "nearest_index = distances.index(min_distance)\n",
    "\n",
    "# Print the results\n",
    "print(\"Distances from each eigenvector:\", distances)\n",
    "print(f\"Minimum distance: {min_distance}\")\n",
    "print(f\"Closest eigenvector corresponds to eigenvalue: {eigenvalues[nearest_index]}\")\n"
   ],
   "id": "892f948340e227c7",
   "outputs": [
    {
     "name": "stdout",
     "output_type": "stream",
     "text": [
      "Distances from each eigenvector: [np.float64(2.667259956665657e-06), np.float64(0.9999999999990105), np.float64(0.9999999999976613), np.float64(0.9999999999997705)]\n",
      "Minimum distance: 2.667259956665657e-06\n",
      "Closest eigenvector corresponds to eigenvalue: -0.5008334788651785\n"
     ]
    }
   ],
   "execution_count": 131
  },
  {
   "metadata": {
    "ExecuteTime": {
     "end_time": "2025-06-27T22:21:56.244982Z",
     "start_time": "2025-06-27T22:21:56.218256Z"
    }
   },
   "cell_type": "code",
   "source": [
    "# Find an orthogonal vector to Z2 using Gram-Schmidt\n",
    "random_vector = np.random.rand(*Z2.shape) + 1j * np.random.rand(*Z2.shape)  # Random complex vector\n",
    "orthogonal_vector = random_vector - np.dot(np.conjugate(Z2), random_vector) * Z2\n",
    "orthogonal_vector = orthogonal_vector / np.linalg.norm(orthogonal_vector)  # Normalize\n",
    "\n",
    "print(\"Z2:\", Z2)\n",
    "print(\"Orthogonal vector to Z2:\", orthogonal_vector)\n",
    "\n",
    "# Compute eigenvalues and eigenvectors of the Hermitian matrix\n",
    "eigenvalues, eigenvectors = np.linalg.eigh(hermitian_matrix)\n",
    "\n",
    "# Compute projections for Z2\n",
    "projections_Z2 = np.dot(eigenvectors.T.conj(), Z2)\n",
    "distances_Z2 = [np.linalg.norm(Z2 - proj * eigvec) for proj, eigvec in zip(projections_Z2, eigenvectors.T)]\n",
    "\n",
    "# Compute projections for the orthogonal vector\n",
    "projections_orthogonal = np.dot(eigenvectors.T.conj(), orthogonal_vector)\n",
    "distances_orthogonal = [np.linalg.norm(orthogonal_vector - proj * eigvec) for proj, eigvec in zip(projections_orthogonal, eigenvectors.T)]\n",
    "\n",
    "# Find the minimum distance for each vector\n",
    "min_distance_Z2 = min(distances_Z2)\n",
    "nearest_index_Z2 = distances_Z2.index(min_distance_Z2)\n",
    "\n",
    "min_distance_orthogonal = min(distances_orthogonal)\n",
    "nearest_index_orthogonal = distances_orthogonal.index(min_distance_orthogonal)\n",
    "\n",
    "# Print results\n",
    "print(\"\\n--- Z2 Analysis ---\")\n",
    "print(\"Distances from each eigenvector (Z2):\", distances_Z2)\n",
    "print(f\"Minimum distance (Z2): {min_distance_Z2}\")\n",
    "print(f\"Closest eigenvector (Z2) corresponds to eigenvalue: {eigenvalues[nearest_index_Z2]}\")\n",
    "\n",
    "print(\"\\n--- Orthogonal Vector Analysis ---\")\n",
    "print(\"Distances from each eigenvector (Orthogonal Vector):\", distances_orthogonal)\n",
    "print(f\"Minimum distance (Orthogonal Vector): {min_distance_orthogonal}\")\n",
    "print(f\"Closest eigenvector (Orthogonal Vector) corresponds to eigenvalue: {eigenvalues[nearest_index_orthogonal]}\")\n"
   ],
   "id": "a9b136bc45a97ddb",
   "outputs": [
    {
     "name": "stdout",
     "output_type": "stream",
     "text": [
      "Z2: [ 0.14659855+0.73597403j -0.03422472-0.60979756j  0.13474689+0.05409825j\n",
      " -0.2026067 -0.04115665j]\n",
      "Orthogonal vector to Z2: [0.41649255+0.36214772j 0.45297041+0.34568785j 0.02294904+0.18700412j\n",
      " 0.50910249+0.27571389j]\n",
      "\n",
      "--- Z2 Analysis ---\n",
      "Distances from each eigenvector (Z2): [np.float64(2.667259956665657e-06), np.float64(0.9999999999990105), np.float64(0.9999999999976613), np.float64(0.9999999999997705)]\n",
      "Minimum distance (Z2): 2.667259956665657e-06\n",
      "Closest eigenvector (Z2) corresponds to eigenvalue: -0.5008334788651785\n",
      "\n",
      "--- Orthogonal Vector Analysis ---\n",
      "Distances from each eigenvector (Orthogonal Vector): [np.float64(0.9999999999991855), np.float64(0.985501739170731), np.float64(0.98285906253931), np.float64(0.25054816957511883)]\n",
      "Minimum distance (Orthogonal Vector): 0.25054816957511883\n",
      "Closest eigenvector (Orthogonal Vector) corresponds to eigenvalue: 2.478956478302395\n"
     ]
    }
   ],
   "execution_count": 132
  }
 ],
 "metadata": {
  "kernelspec": {
   "display_name": "Python 3",
   "language": "python",
   "name": "python3"
  },
  "language_info": {
   "codemirror_mode": {
    "name": "ipython",
    "version": 2
   },
   "file_extension": ".py",
   "mimetype": "text/x-python",
   "name": "python",
   "nbconvert_exporter": "python",
   "pygments_lexer": "ipython2",
   "version": "2.7.6"
  }
 },
 "nbformat": 4,
 "nbformat_minor": 5
}
