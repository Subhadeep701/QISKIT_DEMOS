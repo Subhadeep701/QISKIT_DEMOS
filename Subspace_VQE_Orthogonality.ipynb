{
 "cells": [
  {
   "cell_type": "code",
   "id": "initial_id",
   "metadata": {
    "collapsed": true,
    "ExecuteTime": {
     "end_time": "2025-07-03T10:23:49.080494Z",
     "start_time": "2025-07-03T10:23:44.471202Z"
    }
   },
   "source": [
    "from qiskit import QuantumCircuit\n",
    "from qiskit.circuit.library import TwoLocal\n",
    "from qiskit.quantum_info import Statevector,Operator,SparsePauliOp\n",
    "from qiskit.primitives import StatevectorSampler,StatevectorEstimator\n",
    "from scipy.optimize import minimize\n",
    "import numpy as np"
   ],
   "outputs": [],
   "execution_count": 1
  },
  {
   "metadata": {},
   "cell_type": "markdown",
   "source": "First we show that for any ansatz, we can start from two different computational basis and applying the ansatz still holds the orthogonality.",
   "id": "bae27906a47b7111"
  },
  {
   "metadata": {},
   "cell_type": "markdown",
   "source": "Starting from different computational basis by applying x gate in the first qubit.",
   "id": "f98fd1d98c947cee"
  },
  {
   "metadata": {},
   "cell_type": "markdown",
   "source": "Now examining the overlap of both the output states",
   "id": "fb0266e3a540b134"
  },
  {
   "metadata": {},
   "cell_type": "markdown",
   "source": "Now Lets check the performance for VQE. We find the first eigenstate and store the theta values. Then we check with respect to different computational basis states.",
   "id": "5f019a6128ecab2c"
  },
  {
   "metadata": {},
   "cell_type": "markdown",
   "source": "First we generate a hermitian operator over which the VQE will run",
   "id": "9792dbeb90214bcd"
  },
  {
   "metadata": {
    "ExecuteTime": {
     "end_time": "2025-07-03T12:13:38.443948Z",
     "start_time": "2025-07-03T12:13:38.428795Z"
    }
   },
   "cell_type": "code",
   "source": [
    "qubits=5\n",
    "import numpy as np\n",
    "\n",
    "import numpy as np\n",
    "\n",
    "import numpy as np\n",
    "\n",
    "def generate_covariance_band_decay_matrix(n, bandwidth, decay_rate):\n",
    "    \"\"\"\n",
    "    Generate a real symmetric positive semidefinite (PSD) covariance matrix\n",
    "    with decaying values away from the diagonal.\n",
    "\n",
    "    Parameters:\n",
    "        n (int): Size of the matrix (n x n).\n",
    "        bandwidth (int): Controls effective band width (must be > 0).\n",
    "        decay_rate (float): Exponential decay factor.\n",
    "\n",
    "    Returns:\n",
    "        np.ndarray: Covariance matrix (real symmetric PSD).\n",
    "    \"\"\"\n",
    "    if bandwidth <= 0:\n",
    "        raise ValueError(\"Bandwidth must be positive.\")\n",
    "\n",
    "    A = np.zeros((n, n))\n",
    "\n",
    "    for i in range(n):\n",
    "        for j in range(n):  # no need to restrict to upper triangle\n",
    "            distance = abs(i - j)\n",
    "            decay = np.exp(-decay_rate * (distance / bandwidth) ** 2)\n",
    "            A[i, j] = decay * np.random.rand()\n",
    "\n",
    "    # Make it PSD\n",
    "    C = A @ A.T\n",
    "\n",
    "    # Optional: ensure numerical PSD\n",
    "    eigvals, eigvecs = np.linalg.eigh(C)\n",
    "    eigvals_clipped = np.clip(eigvals, 0, None)\n",
    "    C = eigvecs @ np.diag(eigvals_clipped) @ eigvecs.T\n",
    "\n",
    "    return C\n",
    "\n",
    "\n",
    "\n",
    "hermitian_matrix =generate_covariance_band_decay_matrix(n=2**qubits, bandwidth=2, decay_rate=3.0)\n",
    "print(f\"Hermitian Matrix:{hermitian_matrix}\")\n",
    "z=Operator(-hermitian_matrix)\n",
    "Pauli=SparsePauliOp.from_operator(z)\n",
    "print(Pauli)\n"
   ],
   "id": "d2b7c1d8a199bb0a",
   "outputs": [
    {
     "name": "stdout",
     "output_type": "stream",
     "text": [
      "Hermitian Matrix:[[ 8.84471079e-01  4.11008545e-01  7.54155191e-02 ...  4.30088820e-19\n",
      "   2.73408271e-19  3.01497051e-20]\n",
      " [ 4.11008545e-01  5.32955874e-01  2.48468519e-01 ... -4.83759964e-19\n",
      "  -2.65957726e-19 -3.40679065e-20]\n",
      " [ 7.54155191e-02  2.48468519e-01  1.83435117e-01 ... -4.16650054e-19\n",
      "  -6.62003629e-19 -6.60571846e-20]\n",
      " ...\n",
      " [ 4.24816353e-19 -4.97299985e-19 -4.08114707e-19 ...  1.94130872e-01\n",
      "   2.98992614e-01  2.56635517e-02]\n",
      " [ 2.78942476e-19 -2.75048863e-19 -6.67464774e-19 ...  2.98992614e-01\n",
      "   1.16368709e+00  1.27128028e-01]\n",
      " [ 3.24658985e-20 -3.45337976e-20 -6.87195453e-20 ...  2.56635517e-02\n",
      "   1.27128028e-01  5.85877674e-02]]\n",
      "SparsePauliOp(['IIIII', 'IIIIX', 'IIIIZ', 'IIIXI', 'IIIXX', 'IIIXZ', 'IIIYY', 'IIIZI', 'IIIZX', 'IIIZZ', 'IIXII', 'IIXIX', 'IIXIZ', 'IIXXI', 'IIXXX', 'IIXXZ', 'IIXYY', 'IIXZI', 'IIXZX', 'IIYIY', 'IIYXY', 'IIYYI', 'IIYYX', 'IIYYZ', 'IIYZY', 'IIZII', 'IIZIX', 'IIZIZ', 'IIZXI', 'IIZXX', 'IIZXZ', 'IIZYY', 'IIZZI', 'IIZZX', 'IIZZZ', 'IXXII', 'IXXIX', 'IXXIZ', 'IXXXI', 'IXXXX', 'IXXXZ', 'IXXYY', 'IXXZI', 'IXXZX', 'IXXZZ', 'IXYIY', 'IXYXY', 'IXYYI', 'IXYYX', 'IXYYZ', 'IXYZY', 'IYXIY', 'IYXXY', 'IYXYI', 'IYXYX', 'IYXYZ', 'IYXZY', 'IYYII', 'IYYIX', 'IYYIZ', 'IYYXI', 'IYYXX', 'IYYXZ', 'IYYYY', 'IYYZI', 'IYYZX', 'IYYZZ', 'IZIII', 'IZIIX', 'IZIIZ', 'IZIXI', 'IZIXX', 'IZIXZ', 'IZIYY', 'IZIZI', 'IZIZX', 'IZIZZ', 'IZXII', 'IZXIX', 'IZXIZ', 'IZXXI', 'IZXXX', 'IZXXZ', 'IZXYY', 'IZXZI', 'IZXZX', 'IZXZZ', 'IZYIY', 'IZYXY', 'IZYYI', 'IZYYX', 'IZYYZ', 'IZYZY', 'IZZII', 'IZZIX', 'IZZIZ', 'IZZXI', 'IZZXX', 'IZZXZ', 'IZZYY', 'IZZZI', 'IZZZX', 'IZZZZ', 'XXXII', 'XXXIX', 'XXXIZ', 'XXXXI', 'XXXXX', 'XXXXZ', 'XXXYY', 'XXXZI', 'XXXZX', 'XXXZZ', 'XXYIY', 'XXYXY', 'XXYYI', 'XXYYX', 'XXYYZ', 'XXYZY', 'XYXIY', 'XYXXY', 'XYXYI', 'XYXYX', 'XYXYZ', 'XYXZY', 'XYYII', 'XYYIX', 'XYYIZ', 'XYYXI', 'XYYXX', 'XYYXZ', 'XYYYY', 'XYYZI', 'XYYZX', 'XYYZZ', 'YXXIY', 'YXXXY', 'YXXYI', 'YXXYX', 'YXXYZ', 'YXXZY', 'YXYII', 'YXYIX', 'YXYIZ', 'YXYXI', 'YXYXX', 'YXYXZ', 'YXYYY', 'YXYZI', 'YXYZX', 'YXYZZ', 'YYXII', 'YYXIX', 'YYXIZ', 'YYXXI', 'YYXXX', 'YYXXZ', 'YYXYY', 'YYXZI', 'YYXZX', 'YYXZZ', 'YYYIY', 'YYYXY', 'YYYYI', 'YYYYX', 'YYYYZ', 'YYYZY', 'ZIIII', 'ZIIIX', 'ZIIIZ', 'ZIIXI', 'ZIIXX', 'ZIIXZ', 'ZIIYY', 'ZIIZI', 'ZIIZX', 'ZIIZZ', 'ZIXII', 'ZIXIX', 'ZIXIZ', 'ZIXXI', 'ZIXXX', 'ZIXXZ', 'ZIXYY', 'ZIXZI', 'ZIXZX', 'ZIXZZ', 'ZIYIY', 'ZIYXY', 'ZIYYI', 'ZIYYX', 'ZIYYZ', 'ZIYZY', 'ZIZII', 'ZIZIX', 'ZIZIZ', 'ZIZXI', 'ZIZXX', 'ZIZXZ', 'ZIZYY', 'ZIZZI', 'ZIZZX', 'ZIZZZ', 'ZXXII', 'ZXXIX', 'ZXXIZ', 'ZXXXI', 'ZXXXX', 'ZXXXZ', 'ZXXYY', 'ZXXZI', 'ZXXZX', 'ZXXZZ', 'ZXYIY', 'ZXYXY', 'ZXYYI', 'ZXYYX', 'ZXYYZ', 'ZXYZY', 'ZYXIY', 'ZYXXY', 'ZYXYI', 'ZYXYX', 'ZYXYZ', 'ZYXZY', 'ZYYII', 'ZYYIX', 'ZYYIZ', 'ZYYXI', 'ZYYXX', 'ZYYXZ', 'ZYYYY', 'ZYYZI', 'ZYYZX', 'ZYYZZ', 'ZZIII', 'ZZIIX', 'ZZIIZ', 'ZZIXI', 'ZZIXX', 'ZZIXZ', 'ZZIYY', 'ZZIZI', 'ZZIZX', 'ZZIZZ', 'ZZXII', 'ZZXIX', 'ZZXIZ', 'ZZXXI', 'ZZXXX', 'ZZXXZ', 'ZZXYY', 'ZZXZI', 'ZZXZX', 'ZZXZZ', 'ZZYIY', 'ZZYXY', 'ZZYYI', 'ZZYYX', 'ZZYYZ', 'ZZYZY', 'ZZZII', 'ZZZIX', 'ZZZIZ', 'ZZZXI', 'ZZZXX', 'ZZZXZ', 'ZZZYY', 'ZZZZI', 'ZZZZX', 'ZZZZZ'],\n",
      "              coeffs=[-4.60597665e-01+0.j, -2.28836856e-01+0.j,  1.30218464e-02+0.j,\n",
      " -7.60684386e-02+0.j, -1.37747633e-01+0.j,  1.10375642e-02+0.j,\n",
      " -1.28145136e-01+0.j,  5.92913192e-02+0.j,  9.65012022e-03+0.j,\n",
      "  1.77659370e-02+0.j, -7.65783105e-04+0.j, -5.69783655e-03+0.j,\n",
      "  2.23046291e-04+0.j, -3.20524603e-02+0.j, -6.35484760e-02+0.j,\n",
      "  4.96346319e-03+0.j,  5.79145454e-02-0.j, -2.18470455e-04+0.j,\n",
      " -1.24712296e-03+0.j, -5.67140183e-03+0.j, -5.79239119e-02+0.j,\n",
      " -3.20521112e-02+0.j, -6.35391052e-02+0.j,  4.96342341e-03-0.j,\n",
      " -1.23732434e-03+0.j, -1.72624300e-01+0.j, -1.23566100e-01+0.j,\n",
      "  1.13394376e-01+0.j, -5.85570681e-03+0.j, -2.59930615e-02+0.j,\n",
      "  3.08579243e-03+0.j, -2.20493903e-02+0.j, -5.05056659e-02+0.j,\n",
      " -2.62717233e-02+0.j, -1.03744733e-01+0.j, -3.99178208e-04+0.j,\n",
      " -2.21643925e-03+0.j,  5.03631847e-05+0.j, -2.33710243e-02+0.j,\n",
      " -1.08157837e-02+0.j, -1.48520378e-02+0.j,  4.74514277e-03-0.j,\n",
      "  4.75270214e-05+0.j, -2.28021120e-04+0.j,  2.41121503e-05+0.j,\n",
      "  2.19436264e-03-0.j,  4.75097797e-03-0.j,  2.33707959e-02-0.j,\n",
      "  1.08099461e-02-0.j,  1.48520453e-02-0.j,  2.23498223e-04-0.j,\n",
      " -2.19436264e-03+0.j, -4.75097797e-03+0.j, -2.33707959e-02+0.j,\n",
      " -1.08099461e-02+0.j, -1.48520453e-02+0.j, -2.23498223e-04+0.j,\n",
      " -3.99178208e-04+0.j, -2.21643925e-03+0.j,  5.03631847e-05-0.j,\n",
      " -2.33710243e-02+0.j, -1.08157837e-02+0.j, -1.48520378e-02+0.j,\n",
      "  4.74514277e-03+0.j,  4.75270214e-05-0.j, -2.28021120e-04+0.j,\n",
      "  2.41121503e-05-0.j,  4.04673096e-02+0.j,  1.80554722e-02+0.j,\n",
      "  3.04835649e-02+0.j, -4.65760310e-03+0.j, -9.15900959e-03+0.j,\n",
      "  1.85192998e-02+0.j, -8.04579116e-03+0.j, -8.46730006e-02+0.j,\n",
      " -3.30333505e-02+0.j,  3.92646236e-02+0.j, -1.41863710e-04+0.j,\n",
      " -3.29847606e-04+0.j,  1.74394757e-04+0.j,  2.82641131e-03+0.j,\n",
      " -3.82643268e-03+0.j, -1.79430494e-03+0.j,  4.17164381e-03-0.j,\n",
      " -2.24145292e-04+0.j, -1.90488697e-03+0.j,  2.17240063e-04+0.j,\n",
      " -3.29612410e-04+0.j, -4.17928351e-03+0.j,  2.82660927e-03-0.j,\n",
      " -3.81879334e-03+0.j, -1.79436114e-03+0.j, -1.90119955e-03+0.j,\n",
      "  2.55148205e-03+0.j,  1.26776532e-02+0.j,  2.92759104e-04+0.j,\n",
      " -1.02893773e-02+0.j, -3.36002624e-03+0.j, -4.95085246e-03+0.j,\n",
      " -1.80802160e-03+0.j, -6.08114749e-03+0.j, -1.46818878e-02+0.j,\n",
      "  5.41122607e-02+0.j, -2.20823887e-04+0.j, -1.41990218e-03+0.j,\n",
      " -2.03410491e-05+0.j, -1.03972788e-02+0.j, -5.16848070e-03+0.j,\n",
      "  8.30434268e-03+0.j,  1.68049320e-03-0.j,  1.24294025e-04+0.j,\n",
      "  1.24142755e-03+0.j,  1.03739723e-04+0.j,  1.41234011e-03-0.j,\n",
      "  1.68624942e-03-0.j,  1.03971863e-02-0.j,  5.16272379e-03-0.j,\n",
      " -8.30434260e-03+0.j, -1.23792311e-03+0.j,  1.41234011e-03-0.j,\n",
      "  1.68624942e-03-0.j,  1.03971863e-02-0.j,  5.16272379e-03-0.j,\n",
      " -8.30434260e-03+0.j, -1.23792311e-03+0.j,  2.20823887e-04-0.j,\n",
      "  1.41990218e-03-0.j,  2.03410491e-05-0.j,  1.03972788e-02-0.j,\n",
      "  5.16848070e-03-0.j, -8.30434268e-03+0.j, -1.68049320e-03+0.j,\n",
      " -1.24294025e-04+0.j, -1.24142755e-03+0.j, -1.03739723e-04+0.j,\n",
      " -1.41234011e-03+0.j, -1.68624942e-03+0.j, -1.03971863e-02+0.j,\n",
      " -5.16272379e-03+0.j,  8.30434260e-03-0.j,  1.23792311e-03-0.j,\n",
      " -2.20823887e-04+0.j, -1.41990218e-03+0.j, -2.03410491e-05+0.j,\n",
      " -1.03972788e-02+0.j, -5.16848070e-03+0.j,  8.30434268e-03-0.j,\n",
      "  1.68049320e-03+0.j,  1.24294025e-04-0.j,  1.24142755e-03-0.j,\n",
      "  1.03739723e-04-0.j, -2.20823887e-04+0.j, -1.41990218e-03+0.j,\n",
      " -2.03410491e-05+0.j, -1.03972788e-02+0.j, -5.16848070e-03+0.j,\n",
      "  8.30434268e-03-0.j,  1.68049320e-03+0.j,  1.24294025e-04-0.j,\n",
      "  1.24142755e-03-0.j,  1.03739723e-04-0.j,  1.41234011e-03+0.j,\n",
      "  1.68624942e-03+0.j,  1.03971863e-02+0.j,  5.16272379e-03+0.j,\n",
      " -8.30434260e-03+0.j, -1.23792311e-03+0.j,  3.20715957e-02+0.j,\n",
      "  3.61863902e-03+0.j, -1.43660133e-02+0.j, -2.78954477e-03+0.j,\n",
      "  4.84561150e-02+0.j,  9.14885204e-03+0.j,  4.94398210e-02-0.j,\n",
      " -8.71077895e-02+0.j, -5.87751697e-02+0.j, -1.40454597e-01+0.j,\n",
      "  3.79176934e-05+0.j, -9.00883822e-04+0.j, -2.21331972e-05+0.j,\n",
      "  5.62596897e-03+0.j, -1.46265043e-02+0.j, -3.36132158e-03+0.j,\n",
      "  1.71454910e-02-0.j,  6.57800787e-05+0.j,  3.95209067e-04+0.j,\n",
      " -1.26513700e-04+0.j, -8.97484454e-04+0.j, -1.71413133e-02+0.j,\n",
      "  5.62592884e-03-0.j, -1.46306800e-02+0.j, -3.36123206e-03+0.j,\n",
      "  3.94753643e-04-0.j, -6.81791989e-03+0.j,  6.35792302e-03+0.j,\n",
      " -9.90600269e-02+0.j, -3.09031150e-03+0.j, -1.05679164e-02+0.j,\n",
      " -1.77805009e-02+0.j, -8.85589854e-03+0.j, -5.01815978e-02+0.j,\n",
      " -6.05901368e-02+0.j, -2.09531121e-02+0.j, -1.39683098e-04+0.j,\n",
      " -1.25790997e-03+0.j,  6.27703075e-05+0.j, -7.58543220e-03+0.j,\n",
      " -3.55085484e-03+0.j, -4.04061296e-03+0.j,  1.42987893e-03-0.j,\n",
      "  1.56600504e-04+0.j,  2.53903485e-04+0.j, -6.51736984e-05+0.j,\n",
      "  1.25207837e-03-0.j,  1.42709591e-03-0.j,  7.58544858e-03-0.j,\n",
      "  3.55363641e-03-0.j,  4.04056303e-03-0.j, -2.46097497e-04+0.j,\n",
      " -1.25207837e-03+0.j, -1.42709591e-03+0.j, -7.58544858e-03+0.j,\n",
      " -3.55363641e-03+0.j, -4.04056303e-03+0.j,  2.46097497e-04-0.j,\n",
      " -1.39683098e-04+0.j, -1.25790997e-03+0.j,  6.27703075e-05-0.j,\n",
      " -7.58543220e-03+0.j, -3.55085484e-03+0.j, -4.04061296e-03+0.j,\n",
      "  1.42987893e-03+0.j,  1.56600504e-04-0.j,  2.53903485e-04-0.j,\n",
      " -6.51736984e-05+0.j,  2.92657741e-02+0.j,  3.46451450e-02+0.j,\n",
      " -6.79481165e-02+0.j,  2.65475952e-03+0.j,  8.71343837e-03+0.j,\n",
      " -1.73232014e-02+0.j,  8.04062650e-03-0.j, -1.71324578e-03+0.j,\n",
      " -7.25445694e-03+0.j,  3.20288249e-02+0.j,  2.46070901e-04+0.j,\n",
      "  1.19316552e-03+0.j, -1.93509459e-04+0.j,  5.39952801e-03+0.j,\n",
      "  2.16709451e-02+0.j,  1.09741338e-02+0.j, -2.09745260e-02+0.j,\n",
      " -6.50413040e-05+0.j, -2.12042104e-03+0.j,  3.28120260e-05+0.j,\n",
      "  1.18572609e-03-0.j,  2.09789672e-02-0.j,  5.39942820e-03-0.j,\n",
      "  2.16665037e-02-0.j,  1.09741734e-02-0.j, -2.12685138e-03+0.j,\n",
      "  4.99820439e-02+0.j,  3.28280911e-02+0.j, -2.40698085e-02+0.j,\n",
      "  1.74438616e-02+0.j, -2.61323016e-03+0.j,  5.49988815e-03+0.j,\n",
      " -4.77340551e-03+0.j, -2.04066870e-03+0.j,  2.41680913e-02+0.j,\n",
      " -5.52538854e-03+0.j])\n"
     ]
    }
   ],
   "execution_count": 55
  },
  {
   "metadata": {},
   "cell_type": "markdown",
   "source": "Now recall the ansatz we have used previously, but the parameters will be variables and will be optimized through StatevectorEstimator",
   "id": "da79ac1c6712bdcf"
  },
  {
   "metadata": {
    "ExecuteTime": {
     "end_time": "2025-07-04T07:28:24.415915Z",
     "start_time": "2025-07-04T07:28:24.018581Z"
    }
   },
   "cell_type": "code",
   "source": [
    "qc_ansatz_vqe=TwoLocal(qubits,rotation_blocks=[\"rx\",\"ry\"],entanglement=\"full\",entanglement_blocks=\"cx\",reps=2)\n",
    "qc_vqe=QuantumCircuit(qubits)\n",
    "qc_vqe=qc_vqe.compose(qc_ansatz_vqe)\n",
    "theta=np.random.rand(qc_ansatz_vqe.num_parameters)\n",
    "qc_vqe.decompose().draw(\"mpl\")"
   ],
   "id": "c1f7afd8a71f345",
   "outputs": [
    {
     "data": {
      "text/plain": [
       "<Figure size 2126.94x451.5 with 1 Axes>"
      ],
      "image/png": "[encoded data removed]"
     },
     "execution_count": 63,
     "metadata": {},
     "output_type": "execute_result"
    }
   ],
   "execution_count": 63
  },
  {
   "metadata": {},
   "cell_type": "markdown",
   "source": "Use Statevector Estimator primitve to calculate the energy and design the cost function",
   "id": "67e38f75e81b1fcd"
  },
  {
   "metadata": {
    "ExecuteTime": {
     "end_time": "2025-07-04T07:33:24.916616Z",
     "start_time": "2025-07-04T07:28:25.989168Z"
    }
   },
   "cell_type": "code",
   "source": [
    "estimator=StatevectorEstimator()\n",
    "def obj_fun(params,qc_fun,ham,estimator_pri):\n",
    "    job=estimator_pri.run([(qc_fun,ham,[params])]).result()[0]\n",
    "    return job.data.evs\n",
    "z=minimize(obj_fun,theta,args=(qc_vqe,Pauli,estimator),method=\"BFGS\")\n",
    "print(f\"Predicted VQE: {z['fun']}\")\n",
    "a=np.linalg.eig(hermitian_matrix)\n",
    "print(f\"True Value:{np.sort(np.real(a[0]))}\")\n",
    "#print(z)"
   ],
   "id": "3dc6cbe2c1b1b414",
   "outputs": [
    {
     "name": "stdout",
     "output_type": "stream",
     "text": [
      "Predicted VQE: -1.5293330977166908\n",
      "True Value:[1.92072452e-04 7.19671635e-04 3.30429527e-03 9.38930856e-03\n",
      " 1.68098671e-02 1.79267561e-02 3.38882964e-02 4.08378943e-02\n",
      " 4.23428182e-02 5.00260347e-02 6.26743857e-02 8.52070601e-02\n",
      " 9.21179982e-02 1.41400710e-01 1.42857482e-01 1.93287140e-01\n",
      " 2.21247534e-01 2.57114881e-01 2.65754706e-01 3.32879205e-01\n",
      " 4.06115770e-01 6.08332535e-01 6.30532793e-01 6.84801974e-01\n",
      " 9.05508650e-01 1.03938262e+00 1.20547146e+00 1.28102955e+00\n",
      " 1.29886329e+00 1.45928895e+00 1.53225969e+00 1.67755987e+00]\n"
     ]
    }
   ],
   "execution_count": 64
  },
  {
   "metadata": {},
   "cell_type": "markdown",
   "source": "Now check for the obtained theta values with other computational basis states\n",
   "id": "3910f9d5f6c950b3"
  },
  {
   "metadata": {
    "ExecuteTime": {
     "end_time": "2025-07-03T12:12:29.945034Z",
     "start_time": "2025-07-03T12:12:29.853465Z"
    }
   },
   "cell_type": "code",
   "source": [
    "theta_opt=z[\"x\"]\n",
    "#print(theta_opt)\n",
    "print(f\"True eigenvalues Value:{np.sort(np.real(a[0]))}\")\n",
    "print(obj_fun(theta_opt,qc_vqe,Pauli,estimator))\n",
    "qc_vqe_o1=QuantumCircuit(qubits)\n",
    "qc_vqe_o1.x(1)\n",
    "#qc_vqe_o1.x(0)\n",
    "new_ansatz=TwoLocal(qubits,rotation_blocks=[\"rx\",\"ry\"],entanglement=\"linear\",entanglement_blocks=\"cx\",reps=1)\n",
    "qc_vqe_o1=qc_vqe_o1.compose(new_ansatz)\n",
    "print(obj_fun(theta_opt,qc_vqe_o1,Pauli,estimator))\n",
    "qc_vqe_o1.decompose().draw(\"mpl\")"
   ],
   "id": "d31037299b7b4a83",
   "outputs": [
    {
     "name": "stdout",
     "output_type": "stream",
     "text": [
      "True eigenvalues Value:[4.07756877e-07 3.15568751e-02 1.62329626e-01 6.57246709e-01]\n",
      "[-0.65724671]\n",
      "[-0.13539935]\n"
     ]
    },
    {
     "data": {
      "text/plain": [
       "<Figure size 621.739x200.667 with 1 Axes>"
      ],
      "image/png": "[encoded data removed]"
     },
     "execution_count": 54,
     "metadata": {},
     "output_type": "execute_result"
    }
   ],
   "execution_count": 54
  },
  {
   "metadata": {
    "ExecuteTime": {
     "end_time": "2025-07-03T10:24:17.108931Z",
     "start_time": "2025-07-03T10:24:17.100474Z"
    }
   },
   "cell_type": "code",
   "source": [
    "Z1=Statevector(qc_vqe_o1.assign_parameters(theta_opt)).data\n",
    "print(Z1)\n",
    "#print(a)\n",
    "Z2=Statevector(qc_vqe.assign_parameters(theta_opt)).data\n",
    "print(Z2)\n",
    "print(np.dot(np.conj(Z1),Z2))\n",
    "\n",
    "\n"
   ],
   "id": "e4c3196fe11e5b3d",
   "outputs": [
    {
     "name": "stdout",
     "output_type": "stream",
     "text": [
      "[ 0.07277538-0.36751153j -0.11510073-0.24927865j  0.18365982-0.10089816j\n",
      "  0.39452717-0.31071344j -0.1358709 +0.0164395j  -0.31434372-0.02971569j\n",
      " -0.38364078+0.06426892j -0.44195415+0.15193662j]\n",
      "[ 0.39980559-0.33348547j  0.39674104-0.27098058j -0.26090525-0.08427049j\n",
      " -0.4341485 +0.07437798j  0.01433957+0.25302951j  0.17569539+0.26236506j\n",
      " -0.24680447+0.0364253j  -0.05186597+0.00746717j]\n",
      "(-5.551115123125783e-17-1.3877787807814457e-16j)\n"
     ]
    }
   ],
   "execution_count": 10
  },
  {
   "metadata": {
    "ExecuteTime": {
     "end_time": "2025-07-03T10:24:19.541803Z",
     "start_time": "2025-07-03T10:24:19.536271Z"
    }
   },
   "cell_type": "code",
   "source": [
    "# Compute the eigenvalues and eigenvectors of the Hermitian matrix\n",
    "eigenvalues, eigenvectors = np.linalg.eigh(hermitian_matrix)\n",
    "\n",
    "# Compute the projection of Z2 onto each eigenvector\n",
    "projections = np.dot(eigenvectors.T.conj(), Z2)\n",
    "\n",
    "# Compute the distances\n",
    "distances = [np.linalg.norm(Z2 - proj * eigvec) for proj, eigvec in zip(projections, eigenvectors.T)]\n",
    "\n",
    "# Find the minimum distance\n",
    "min_distance = min(distances)\n",
    "nearest_index = distances.index(min_distance)\n",
    "\n",
    "# Print the results\n",
    "print(\"Distances from each eigenvector:\", distances)\n",
    "print(f\"Minimum distance: {min_distance}\")\n",
    "print(f\"Closest eigenvector corresponds to eigenvalue: {eigenvalues[nearest_index]}\")\n"
   ],
   "id": "892f948340e227c7",
   "outputs": [
    {
     "name": "stdout",
     "output_type": "stream",
     "text": [
      "Distances from each eigenvector: [np.float64(0.47068401967120793), np.float64(0.9144140629717264), np.float64(0.9891841090990804), np.float64(0.9984561138475595), np.float64(0.9966447294540628), np.float64(0.9971084616121074), np.float64(0.9897050843605315), np.float64(0.9999307511602336)]\n",
      "Minimum distance: 0.47068401967120793\n",
      "Closest eigenvector corresponds to eigenvalue: -1.3546680369959623\n"
     ]
    }
   ],
   "execution_count": 11
  },
  {
   "metadata": {
    "ExecuteTime": {
     "end_time": "2025-07-03T10:24:22.776822Z",
     "start_time": "2025-07-03T10:24:22.768085Z"
    }
   },
   "cell_type": "code",
   "source": [
    "# Find an orthogonal vector to Z2 using Gram-Schmidt\n",
    "random_vector = np.random.rand(*Z2.shape) + 1j * np.random.rand(*Z2.shape)  # Random complex vector\n",
    "orthogonal_vector = random_vector - np.dot(np.conjugate(Z2), random_vector) * Z2\n",
    "orthogonal_vector = orthogonal_vector / np.linalg.norm(orthogonal_vector)  # Normalize\n",
    "\n",
    "print(\"Z2:\", Z2)\n",
    "print(\"Orthogonal vector to Z2:\", orthogonal_vector)\n",
    "\n",
    "# Compute eigenvalues and eigenvectors of the Hermitian matrix\n",
    "eigenvalues, eigenvectors = np.linalg.eigh(hermitian_matrix)\n",
    "\n",
    "# Compute projections for Z2\n",
    "projections_Z2 = np.dot(eigenvectors.T.conj(), Z2)\n",
    "distances_Z2 = [np.linalg.norm(Z2 - proj * eigvec) for proj, eigvec in zip(projections_Z2, eigenvectors.T)]\n",
    "\n",
    "# Compute projections for the orthogonal vector\n",
    "projections_orthogonal = np.dot(eigenvectors.T.conj(), orthogonal_vector)\n",
    "distances_orthogonal = [np.linalg.norm(orthogonal_vector - proj * eigvec) for proj, eigvec in zip(projections_orthogonal, eigenvectors.T)]\n",
    "\n",
    "# Find the minimum distance for each vector\n",
    "min_distance_Z2 = min(distances_Z2)\n",
    "nearest_index_Z2 = distances_Z2.index(min_distance_Z2)\n",
    "\n",
    "min_distance_orthogonal = min(distances_orthogonal)\n",
    "nearest_index_orthogonal = distances_orthogonal.index(min_distance_orthogonal)\n",
    "\n",
    "# Print results\n",
    "print(\"\\n--- Z2 Analysis ---\")\n",
    "print(\"Distances from each eigenvector (Z2):\", distances_Z2)\n",
    "print(f\"Minimum distance (Z2): {min_distance_Z2}\")\n",
    "print(f\"Closest eigenvector (Z2) corresponds to eigenvalue: {eigenvalues[nearest_index_Z2]}\")\n",
    "\n",
    "print(\"\\n--- Orthogonal Vector Analysis ---\")\n",
    "print(\"Distances from each eigenvector (Orthogonal Vector):\", distances_orthogonal)\n",
    "print(f\"Minimum distance (Orthogonal Vector): {min_distance_orthogonal}\")\n",
    "print(f\"Closest eigenvector (Orthogonal Vector) corresponds to eigenvalue: {eigenvalues[nearest_index_orthogonal]}\")\n"
   ],
   "id": "a9b136bc45a97ddb",
   "outputs": [
    {
     "name": "stdout",
     "output_type": "stream",
     "text": [
      "Z2: [ 0.39980559-0.33348547j  0.39674104-0.27098058j -0.26090525-0.08427049j\n",
      " -0.4341485 +0.07437798j  0.01433957+0.25302951j  0.17569539+0.26236506j\n",
      " -0.24680447+0.0364253j  -0.05186597+0.00746717j]\n",
      "Orthogonal vector to Z2: [ 0.29908117+0.08267177j  0.29885426+0.10841935j  0.18608394+0.29254854j\n",
      "  0.30130749+0.1360679j   0.19917962+0.21512151j -0.02221677+0.21975113j\n",
      "  0.3772493 +0.34402835j  0.371223  +0.19980406j]\n",
      "\n",
      "--- Z2 Analysis ---\n",
      "Distances from each eigenvector (Z2): [np.float64(0.47068401967120793), np.float64(0.9144140629717264), np.float64(0.9891841090990804), np.float64(0.9984561138475595), np.float64(0.9966447294540628), np.float64(0.9971084616121074), np.float64(0.9897050843605315), np.float64(0.9999307511602336)]\n",
      "Minimum distance (Z2): 0.47068401967120793\n",
      "Closest eigenvector (Z2) corresponds to eigenvalue: -1.3546680369959623\n",
      "\n",
      "--- Orthogonal Vector Analysis ---\n",
      "Distances from each eigenvector (Orthogonal Vector): [np.float64(0.9979995514111688), np.float64(0.9980992887759101), np.float64(0.9961684662645387), np.float64(0.9967563104232414), np.float64(0.9336954259667724), np.float64(0.964059767602202), np.float64(0.9945073653203048), np.float64(0.4813280232055002)]\n",
      "Minimum distance (Orthogonal Vector): 0.4813280232055002\n",
      "Closest eigenvector (Orthogonal Vector) corresponds to eigenvalue: 4.819907131801636\n"
     ]
    }
   ],
   "execution_count": 12
  }
 ],
 "metadata": {
  "kernelspec": {
   "display_name": "Python 3",
   "language": "python",
   "name": "python3"
  },
  "language_info": {
   "codemirror_mode": {
    "name": "ipython",
    "version": 2
   },
   "file_extension": ".py",
   "mimetype": "text/x-python",
   "name": "python",
   "nbconvert_exporter": "python",
   "pygments_lexer": "ipython2",
   "version": "2.7.6"
  }
 },
 "nbformat": 4,
 "nbformat_minor": 5
}
