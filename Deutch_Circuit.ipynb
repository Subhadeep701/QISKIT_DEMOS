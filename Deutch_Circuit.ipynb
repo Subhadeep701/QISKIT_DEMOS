{
 "cells": [
  {
   "cell_type": "code",
   "id": "initial_id",
   "metadata": {
    "collapsed": true,
    "ExecuteTime": {
     "end_time": "2025-06-18T12:14:00.454849Z",
     "start_time": "2025-06-18T12:14:00.451100Z"
    }
   },
   "source": [
    "from qiskit import QuantumCircuit\n",
    "from qiskit_aer import AerSimulator\n",
    "\n",
    "def deutch_query(Case:int):\n",
    "    if Case not in [1,2,3,4]:\n",
    "        raise(\"ValueError\")\n",
    "    qc=QuantumCircuit(2)\n",
    "    if Case in [2,3]:\n",
    "        qc.cx(0,1)\n",
    "    # if Case in [3,4]:\n",
    "    #     qc.x(1)\n",
    "    return qc\n"
   ],
   "outputs": [],
   "execution_count": 49
  },
  {
   "metadata": {
    "ExecuteTime": {
     "end_time": "2025-06-18T12:15:19.208958Z",
     "start_time": "2025-06-18T12:15:19.152686Z"
    }
   },
   "cell_type": "code",
   "source": [
    "qc=QuantumCircuit(2,1)\n",
    "qc.h([0])\n",
    "qc.x(1)\n",
    "qc.h([1])\n",
    "qc=qc.compose(deutch_query(2))\n",
    "qc.h(0)\n",
    "qc.measure(0,0)\n",
    "\n",
    "simulatore=AerSimulator()\n",
    "job=simulatore.run(qc,shots=1,memory=True).result()\n",
    "measurement=job.get_memory()\n",
    "qc.draw(\"mpl\")"
   ],
   "id": "6a118ad85f77d376",
   "outputs": [
    {
     "data": {
      "text/plain": [
       "<Figure size 538.128x284.278 with 1 Axes>"
      ],
      "image/png": "[encoded data removed]"
     },
     "execution_count": 56,
     "metadata": {},
     "output_type": "execute_result"
    }
   ],
   "execution_count": 56
  },
  {
   "metadata": {
    "ExecuteTime": {
     "end_time": "2025-06-18T12:15:21.475713Z",
     "start_time": "2025-06-18T12:15:21.471954Z"
    }
   },
   "cell_type": "code",
   "source": [
    "if measurement[0]==\"0\":\n",
    "    print(\"constant\")\n",
    "else:\n",
    "    print(\"balanced\")"
   ],
   "id": "cd46c3db15e260c1",
   "outputs": [
    {
     "name": "stdout",
     "output_type": "stream",
     "text": [
      "balanced\n"
     ]
    }
   ],
   "execution_count": 57
  }
 ],
 "metadata": {
  "kernelspec": {
   "display_name": "Python 3",
   "language": "python",
   "name": "python3"
  },
  "language_info": {
   "codemirror_mode": {
    "name": "ipython",
    "version": 2
   },
   "file_extension": ".py",
   "mimetype": "text/x-python",
   "name": "python",
   "nbconvert_exporter": "python",
   "pygments_lexer": "ipython2",
   "version": "2.7.6"
  }
 },
 "nbformat": 4,
 "nbformat_minor": 5
}
