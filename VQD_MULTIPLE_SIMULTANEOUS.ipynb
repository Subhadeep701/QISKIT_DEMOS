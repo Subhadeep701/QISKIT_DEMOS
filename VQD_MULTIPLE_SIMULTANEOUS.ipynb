{
 "cells": [
  {
   "metadata": {},
   "cell_type": "markdown",
   "source": "Generating the hermitian matrix",
   "id": "e84619b210d6c157"
  },
  {
   "cell_type": "code",
   "id": "initial_id",
   "metadata": {
    "collapsed": true,
    "ExecuteTime": {
     "end_time": "2025-06-26T11:36:08.631170Z",
     "start_time": "2025-06-26T11:36:08.625543Z"
    }
   },
   "source": [
    "from qiskit import QuantumCircuit\n",
    "from qiskit.quantum_info import Operator,SparsePauliOp\n",
    "from qiskit.circuit.library import TwoLocal\n",
    "import numpy as np\n",
    "\n",
    "def generate_hermitian_matrix(n):\n",
    "    # Generate a random complex matrix\n",
    "    A = np.random.rand(n, n) + 1j * np.random.rand(n, n)\n",
    "    # Construct a Hermitian matrix as (A + A.H) / 2\n",
    "    H = (A + A.conj().T) / 2\n",
    "    return H\n",
    "n = 4\n",
    "hermitian_matrix = generate_hermitian_matrix(n)\n",
    "print(f\"Hermitian Matrix:{hermitian_matrix}\")\n",
    "z=Operator(hermitian_matrix)\n",
    "Pauli=SparsePauliOp.from_operator(z)\n",
    "print(Pauli)\n",
    "qubits=int(np.log2(len(hermitian_matrix)))\n",
    "print(qubits)"
   ],
   "outputs": [
    {
     "name": "stdout",
     "output_type": "stream",
     "text": [
      "Hermitian Matrix:[[0.65817266+0.j         0.7392634 -0.00867067j 0.56516901+0.35419631j\n",
      "  0.51241302+0.21197076j]\n",
      " [0.7392634 +0.00867067j 0.82373632+0.j         0.34693215-0.38120295j\n",
      "  0.36186557+0.22784483j]\n",
      " [0.56516901-0.35419631j 0.34693215+0.38120295j 0.15780514+0.j\n",
      "  0.47095251-0.19102706j]\n",
      " [0.51241302-0.21197076j 0.36186557-0.22784483j 0.47095251+0.19102706j\n",
      "  0.84532573+0.j        ]]\n",
      "SparsePauliOp(['II', 'IX', 'IY', 'IZ', 'XI', 'XX', 'XY', 'XZ', 'YI', 'YX', 'YY', 'YZ', 'ZI', 'ZX', 'ZY', 'ZZ'],\n",
      "              coeffs=[ 0.62125996+0.j,  0.60510796+0.j,  0.09984886+0.j, -0.21327106+0.j,\n",
      "  0.46351729+0.j,  0.42967258+0.j, -0.29658685+0.j,  0.10165172+0.j,\n",
      " -0.29102057+0.j,  0.0846161 +0.j, -0.08274043+0.j, -0.06317574+0.j,\n",
      "  0.11969453+0.j,  0.13415544+0.j, -0.09117819+0.j,  0.13048923+0.j])\n",
      "2\n"
     ]
    }
   ],
   "execution_count": 36
  },
  {
   "metadata": {},
   "cell_type": "markdown",
   "source": "Generating The Ansatz. These can be customized.",
   "id": "92109fa0f8d2315e"
  },
  {
   "metadata": {
    "ExecuteTime": {
     "end_time": "2025-06-26T12:50:32.324166Z",
     "start_time": "2025-06-26T12:50:32.248588Z"
    }
   },
   "cell_type": "code",
   "source": [
    "ansatz=TwoLocal(num_qubits=qubits,rotation_blocks=[\"rx\",\"ry\"],entanglement_blocks=\"cx\",entanglement='linear',reps=1)\n",
    "a=ansatz.num_parameters\n",
    "b=np.random.rand(a)\n",
    "### This is for illustration how can the weights be assigned but not necessary for VQE\n",
    "z=ansatz.assign_parameters(b)\n",
    "z.decompose().draw(\"mpl\")"
   ],
   "id": "1467db009128e7bd",
   "outputs": [
    {
     "data": {
      "text/plain": [
       "<Figure size 538.128x200.667 with 1 Axes>"
      ],
      "image/png": "[encoded data removed]"
     },
     "execution_count": 114,
     "metadata": {},
     "output_type": "execute_result"
    }
   ],
   "execution_count": 114
  },
  {
   "metadata": {},
   "cell_type": "markdown",
   "source": "Now generate the circuit",
   "id": "1faf92f8441095b2"
  },
  {
   "metadata": {
    "ExecuteTime": {
     "end_time": "2025-06-26T12:50:34.026039Z",
     "start_time": "2025-06-26T12:50:33.949445Z"
    }
   },
   "cell_type": "code",
   "source": [
    "qc=QuantumCircuit(qubits,qubits)\n",
    "qc.compose(ansatz,inplace=True)\n",
    "qc.decompose().draw(\"mpl\")"
   ],
   "id": "8018809453cb931b",
   "outputs": [
    {
     "data": {
      "text/plain": [
       "<Figure size 538.128x284.278 with 1 Axes>"
      ],
      "image/png": "[encoded data removed]"
     },
     "execution_count": 115,
     "metadata": {},
     "output_type": "execute_result"
    }
   ],
   "execution_count": 115
  },
  {
   "metadata": {},
   "cell_type": "markdown",
   "source": "Use estimator primitive for energy calculation",
   "id": "5c5e69eaca1ee089"
  },
  {
   "metadata": {
    "ExecuteTime": {
     "end_time": "2025-06-26T12:50:37.171977Z",
     "start_time": "2025-06-26T12:50:35.903030Z"
    }
   },
   "cell_type": "code",
   "source": [
    "from qiskit.primitives import StatevectorEstimator\n",
    "b=np.random.rand(a)\n",
    "estimator = StatevectorEstimator()\n",
    "job=estimator.run([(qc,Pauli,[b])]).result()\n",
    "value=job[0].data.evs\n",
    "#print(value)\n",
    "# k=[]\n",
    "# for _ in range(500):\n",
    "#     b=np.random.rand(a)\n",
    "#     estimator = StatevectorEstimator()\n",
    "#     job=estimator.run([(qc,Pauli,[b])]).result()\n",
    "#     value=job[0].data.evs\n",
    "#     k.append(value)\n",
    "# print(np.mean(k))\n"
   ],
   "id": "7766203f4f820551",
   "outputs": [
    {
     "name": "stdout",
     "output_type": "stream",
     "text": [
      "1.3343730052573015\n"
     ]
    }
   ],
   "execution_count": 116
  },
  {
   "metadata": {},
   "cell_type": "markdown",
   "source": "",
   "id": "9a97bf187ac0e4c4"
  }
 ],
 "metadata": {
  "kernelspec": {
   "display_name": "Python 3",
   "language": "python",
   "name": "python3"
  },
  "language_info": {
   "codemirror_mode": {
    "name": "ipython",
    "version": 2
   },
   "file_extension": ".py",
   "mimetype": "text/x-python",
   "name": "python",
   "nbconvert_exporter": "python",
   "pygments_lexer": "ipython2",
   "version": "2.7.6"
  }
 },
 "nbformat": 4,
 "nbformat_minor": 5
}
